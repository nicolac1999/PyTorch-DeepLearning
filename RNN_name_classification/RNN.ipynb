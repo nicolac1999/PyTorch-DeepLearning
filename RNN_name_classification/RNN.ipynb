{
 "cells": [
  {
   "cell_type": "markdown",
   "metadata": {},
   "source": [
    "# Recurrent Neural Network (RNNs)"
   ]
  },
  {
   "cell_type": "markdown",
   "metadata": {},
   "source": [
    "Recurrent neural netokors is a neural network used for processing a sequences of data,the output of each state depends on the previous computations.\n",
    "\n",
    "**Input** : x(t) sequece of data (list of words, time series)\n",
    "\n",
    "**Hidden** : h(t) hidden state at time t and acts as \"memory\" of the network. The hidden state is computed based on the current input and the previous hidden state h(t-1)\n",
    "$$\n",
    "h(t)=f (U \\ x(t)+W \\ h(t-1))\n",
    "$$\n",
    "The function f is a non-linear transformation like tanh, ReLU or a Sigmoid.\n",
    "\n",
    "**Weights** :\n",
    "* input to hidden $\\rightarrow$ weight matrix U\n",
    "* hidden to hidden  $\\rightarrow$ weight matrix W\n",
    "* hidden to output $\\rightarrow$ weight matrix V\n",
    "\n",
    "**Output** : o(t) is the output os the network (most probable next word, stock price prediction)\n",
    "\n",
    "![Recurrent_neural_network_unfold](Recurrent_neural_network_unfold.svg.png)\n",
    "\n",
    "\n",
    "The RNN forward pass can thus be represented by below set of equations.\n",
    "$$a^{(t)} = b+ W \\ h^{(t-1)} + U \\ x^{(t)}$$\n",
    "$$h^{(t)} = tanh(a^{(t)})$$\n",
    "$$o^{(t)} = c+V \\ h^{(t)}$$\n",
    "$$\\hat{y}^{(t)}=softmax(o^{(t)})$$"
   ]
  },
  {
   "cell_type": "code",
   "execution_count": 1,
   "metadata": {},
   "outputs": [],
   "source": [
    "import torch \n",
    "import torch.nn as nn\n",
    "import matplotlib.pyplot as plt\n",
    "\n",
    "\n",
    "from utils import ALL_LETTERS,N_LETTERS\n",
    "from utils import load_data,letter_to_tensor,line_to_tensor,random_training_example"
   ]
  },
  {
   "cell_type": "code",
   "execution_count": 2,
   "metadata": {},
   "outputs": [],
   "source": [
    "class RNN(nn.Module):\n",
    "    def __init__(self,input_size,hidden_size,output_size):\n",
    "        super().__init__()\n",
    "        self.hidden_size=hidden_size\n",
    "        self.i2h=nn.Linear(input_size+hidden_size,hidden_size)  #input to hidden\n",
    "        self.i2o=nn.Linear(input_size+hidden_size,output_size)  #input to output\n",
    "        self.softmax=nn.LogSoftmax(dim=1)\n",
    "    \n",
    "\n",
    "    def forward(self,input_tensor,hidden_tensor):\n",
    "        combined=torch.cat((input_tensor,hidden_tensor),dim=1)\n",
    "\n",
    "        hidden=self.i2h(combined)\n",
    "        output=self.i2o(combined)\n",
    "\n",
    "        output=self.softmax(output)\n",
    "\n",
    "        return output,hidden\n",
    "\n",
    "    def init_hidden(self):\n",
    "        return torch.zeros(1,self.hidden_size)\n",
    "    "
   ]
  },
  {
   "cell_type": "code",
   "execution_count": 3,
   "metadata": {},
   "outputs": [
    {
     "name": "stdout",
     "output_type": "stream",
     "text": [
      "18\n"
     ]
    }
   ],
   "source": [
    "category_lines,all_categories=load_data()\n",
    "n_categories=len(all_categories)\n",
    "#print(n_categories)"
   ]
  },
  {
   "cell_type": "code",
   "execution_count": 4,
   "metadata": {},
   "outputs": [
    {
     "name": "stdout",
     "output_type": "stream",
     "text": [
      "torch.Size([1, 18])\n",
      "torch.Size([1, 128])\n"
     ]
    }
   ],
   "source": [
    "n_hidden=128\n",
    "# the length of the input (one-hot vector) is equal to the number of letters\n",
    "# the length of the hidden state is an hyperparameter\n",
    "# the length of the output is the number of the categories\n",
    "rnn=RNN(N_LETTERS,n_hidden,n_categories)\n",
    "\n",
    "# one step (one character)\n",
    "input_tensor=letter_to_tensor('A')\n",
    "hidden_tensor=rnn.init_hidden()\n",
    "\n",
    "output,next_hidden=rnn(input_tensor,hidden_tensor)\n",
    "\n",
    "print(output.size())\n",
    "print(next_hidden.size())"
   ]
  },
  {
   "cell_type": "code",
   "execution_count": 7,
   "metadata": {},
   "outputs": [],
   "source": [
    "def category_from_output(output):\n",
    "    #return the category given the output of the softmax layer\n",
    "    category_idx=torch.argmax(output).item()\n",
    "    return all_categories[category_idx]"
   ]
  },
  {
   "cell_type": "code",
   "execution_count": 9,
   "metadata": {},
   "outputs": [
    {
     "name": "stdout",
     "output_type": "stream",
     "text": [
      "Russian\n"
     ]
    }
   ],
   "source": [
    "print(category_from_output(output))"
   ]
  },
  {
   "cell_type": "code",
   "execution_count": 10,
   "metadata": {},
   "outputs": [
    {
     "name": "stdout",
     "output_type": "stream",
     "text": [
      "4999 4.999 2.4955 Negrini / Polish WRONG (Italian)\n",
      "9999 9.998999999999999 2.7428 Macon / Arabic WRONG (French)\n",
      "14999 14.999 2.6766 Morehin / Irish WRONG (Russian)\n",
      "19999 19.999 2.3103 Teasdale / French WRONG (English)\n",
      "24999 24.999 2.7181 Maguire / Portuguese WRONG (Irish)\n",
      "29999 29.999 2.7495 Yakubik / Polish WRONG (Russian)\n",
      "34999 34.999 0.6600 Agnusdei / Italian CORRECT\n",
      "39999 39.999 3.3565 Shichirobei / Polish WRONG (Japanese)\n",
      "44999 44.999 1.2560 Armbruster / German CORRECT\n",
      "49999 49.999 2.3265 Gerhardt / French WRONG (German)\n",
      "54999 54.998999999999995 2.6050 Bordelon / English WRONG (French)\n",
      "59999 59.999 0.2542 Kimura / Japanese CORRECT\n",
      "64999 64.999 0.0352 Koustoubos / Greek CORRECT\n",
      "69999 69.999 1.5656 Puga / Portuguese WRONG (Spanish)\n",
      "74999 74.99900000000001 0.2205 Dam / Vietnamese CORRECT\n",
      "79999 79.999 0.6292 Cai / Chinese CORRECT\n",
      "84999 84.999 1.2696 Baba / Japanese WRONG (Arabic)\n",
      "89999 89.999 1.9491 Kann / Chinese WRONG (Dutch)\n",
      "94999 94.999 0.4230 Sook / Korean CORRECT\n",
      "99999 99.99900000000001 1.5456 Losa / Spanish CORRECT\n"
     ]
    },
    {
     "data": {
      "image/png": "[encoded data removed]",
      "text/plain": [
       "<Figure size 432x288 with 1 Axes>"
      ]
     },
     "metadata": {
      "needs_background": "light"
     },
     "output_type": "display_data"
    }
   ],
   "source": [
    "criterion=nn.NLLLoss()\n",
    "lr=0.005\n",
    "optimizer=torch.optim.SGD(rnn.parameters(),lr=lr)\n",
    "\n",
    "def train(line_tensor,category_tensor):\n",
    "    # initialize the hidden state\n",
    "    hidden=rnn.init_hidden()\n",
    "\n",
    "    # pass the whole sequence (word) in the RNN\n",
    "    # line_tensor.size()[0] = length of the word\n",
    "    for i in range(line_tensor.size()[0]): \n",
    "        output,hidden=rnn(line_tensor[i],hidden)\n",
    "    \n",
    "    loss=criterion(output,category_tensor)\n",
    "\n",
    "    optimizer.zero_grad()\n",
    "    loss.backward()\n",
    "    optimizer.step()\n",
    "\n",
    "    return output, loss.item()\n",
    "\n",
    "current_loss=0\n",
    "all_losses=[]\n",
    "plot_steps,print_steps=1000,5000\n",
    "n_iters=100000\n",
    "for i in range(n_iters):\n",
    "    category,line,category_tensor,line_tensor=random_training_example(category_lines,all_categories)\n",
    "    \n",
    "    output,loss=train(line_tensor,category_tensor)\n",
    "    current_loss+=loss\n",
    "\n",
    "    if (i+1)% plot_steps==0:\n",
    "        all_losses.append(current_loss/plot_steps)\n",
    "        current_loss=0\n",
    "    if (i+1)% print_steps==0:\n",
    "        guess=category_from_output(output)\n",
    "        correct='CORRECT' if guess==category else f'WRONG ({category})'\n",
    "        print(f'{i} {i/n_iters*100} {loss:.4f} {line} / {guess} {correct}')\n",
    "\n",
    "plt.figure()\n",
    "plt.plot(all_losses)\n",
    "plt.show()\n"
   ]
  },
  {
   "cell_type": "code",
   "execution_count": 25,
   "metadata": {},
   "outputs": [],
   "source": [
    "def predict(input_line):\n",
    "    print(f'\\n>{input_line}')\n",
    "    with torch.no_grad():\n",
    "        line_tensor=line_to_tensor(input_line)\n",
    "        hidden=rnn.init_hidden()\n",
    "\n",
    "        for i in range(line_tensor.size()[0]): \n",
    "            output,hidden=rnn(line_tensor[i],hidden)\n",
    "        \n",
    "        guess=category_from_output(output)\n",
    "        print(guess)     "
   ]
  },
  {
   "cell_type": "code",
   "execution_count": 28,
   "metadata": {},
   "outputs": [
    {
     "name": "stdout",
     "output_type": "stream",
     "text": [
      "\n",
      ">Albero\n",
      "Portuguese\n",
      "\n",
      ">Albero\n",
      "Portuguese\n"
     ]
    }
   ],
   "source": [
    "while True:\n",
    "    sentence=input('input:')\n",
    "    if sentence=='quit':\n",
    "        break\n",
    "    predict(sentence)"
   ]
  },
  {
   "cell_type": "code",
   "execution_count": null,
   "metadata": {},
   "outputs": [],
   "source": []
  }
 ],
 "metadata": {
  "interpreter": {
   "hash": "1e2c72ee2e36ea6edab605d60919fcffffca7211ae717c9000ed9ada757ed87d"
  },
  "kernelspec": {
   "display_name": "Python 3.9.6 64-bit",
   "language": "python",
   "name": "python3"
  },
  "language_info": {
   "codemirror_mode": {
    "name": "ipython",
    "version": 3
   },
   "file_extension": ".py",
   "mimetype": "text/x-python",
   "name": "python",
   "nbconvert_exporter": "python",
   "pygments_lexer": "ipython3",
   "version": "3.9.6"
  },
  "orig_nbformat": 4
 },
 "nbformat": 4,
 "nbformat_minor": 2
}
