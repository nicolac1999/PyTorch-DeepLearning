{
 "cells": [
  {
   "cell_type": "code",
   "execution_count": 1,
   "metadata": {},
   "outputs": [
    {
     "name": "stdout",
     "output_type": "stream",
     "text": [
      "Requirement already satisfied: tensorboard in c:\\users\\calni\\appdata\\local\\programs\\python\\python39\\lib\\site-packages (2.7.0)\n",
      "Requirement already satisfied: google-auth<3,>=1.6.3 in c:\\users\\calni\\appdata\\local\\programs\\python\\python39\\lib\\site-packages (from tensorboard) (2.3.3)\n",
      "Requirement already satisfied: tensorboard-plugin-wit>=1.6.0 in c:\\users\\calni\\appdata\\local\\programs\\python\\python39\\lib\\site-packages (from tensorboard) (1.8.0)\n",
      "Requirement already satisfied: grpcio>=1.24.3 in c:\\users\\calni\\appdata\\local\\programs\\python\\python39\\lib\\site-packages (from tensorboard) (1.42.0)\n",
      "Requirement already satisfied: google-auth-oauthlib<0.5,>=0.4.1 in c:\\users\\calni\\appdata\\local\\programs\\python\\python39\\lib\\site-packages (from tensorboard) (0.4.6)\n",
      "Requirement already satisfied: protobuf>=3.6.0 in c:\\users\\calni\\appdata\\local\\programs\\python\\python39\\lib\\site-packages (from tensorboard) (3.19.1)\n",
      "Requirement already satisfied: markdown>=2.6.8 in c:\\users\\calni\\appdata\\local\\programs\\python\\python39\\lib\\site-packages (from tensorboard) (3.3.6)\n",
      "Requirement already satisfied: numpy>=1.12.0 in c:\\users\\calni\\appdata\\local\\programs\\python\\python39\\lib\\site-packages (from tensorboard) (1.20.0)\n",
      "Requirement already satisfied: requests<3,>=2.21.0 in c:\\users\\calni\\appdata\\local\\programs\\python\\python39\\lib\\site-packages (from tensorboard) (2.26.0)\n",
      "Requirement already satisfied: setuptools>=41.0.0 in c:\\users\\calni\\appdata\\local\\programs\\python\\python39\\lib\\site-packages (from tensorboard) (56.0.0)\n",
      "Requirement already satisfied: absl-py>=0.4 in c:\\users\\calni\\appdata\\local\\programs\\python\\python39\\lib\\site-packages (from tensorboard) (1.0.0)\n",
      "Requirement already satisfied: tensorboard-data-server<0.7.0,>=0.6.0 in c:\\users\\calni\\appdata\\local\\programs\\python\\python39\\lib\\site-packages (from tensorboard) (0.6.1)\n",
      "Requirement already satisfied: werkzeug>=0.11.15 in c:\\users\\calni\\appdata\\local\\programs\\python\\python39\\lib\\site-packages (from tensorboard) (2.0.2)\n",
      "Requirement already satisfied: wheel>=0.26 in c:\\users\\calni\\appdata\\local\\programs\\python\\python39\\lib\\site-packages (from tensorboard) (0.37.0)\n",
      "Requirement already satisfied: six in c:\\users\\calni\\appdata\\local\\programs\\python\\python39\\lib\\site-packages (from absl-py>=0.4->tensorboard) (1.16.0)\n",
      "Requirement already satisfied: pyasn1-modules>=0.2.1 in c:\\users\\calni\\appdata\\local\\programs\\python\\python39\\lib\\site-packages (from google-auth<3,>=1.6.3->tensorboard) (0.2.8)\n",
      "Requirement already satisfied: rsa<5,>=3.1.4 in c:\\users\\calni\\appdata\\local\\programs\\python\\python39\\lib\\site-packages (from google-auth<3,>=1.6.3->tensorboard) (4.8)\n",
      "Requirement already satisfied: cachetools<5.0,>=2.0.0 in c:\\users\\calni\\appdata\\local\\programs\\python\\python39\\lib\\site-packages (from google-auth<3,>=1.6.3->tensorboard) (4.2.4)\n",
      "Requirement already satisfied: requests-oauthlib>=0.7.0 in c:\\users\\calni\\appdata\\local\\programs\\python\\python39\\lib\\site-packages (from google-auth-oauthlib<0.5,>=0.4.1->tensorboard) (1.3.0)\n",
      "Requirement already satisfied: importlib-metadata>=4.4 in c:\\users\\calni\\appdata\\local\\programs\\python\\python39\\lib\\site-packages (from markdown>=2.6.8->tensorboard) (4.8.2)\n",
      "Requirement already satisfied: certifi>=2017.4.17 in c:\\users\\calni\\appdata\\local\\programs\\python\\python39\\lib\\site-packages (from requests<3,>=2.21.0->tensorboard) (2021.5.30)\n",
      "Requirement already satisfied: urllib3<1.27,>=1.21.1 in c:\\users\\calni\\appdata\\local\\programs\\python\\python39\\lib\\site-packages (from requests<3,>=2.21.0->tensorboard) (1.26.6)\n",
      "Requirement already satisfied: charset-normalizer~=2.0.0 in c:\\users\\calni\\appdata\\local\\programs\\python\\python39\\lib\\site-packages (from requests<3,>=2.21.0->tensorboard) (2.0.4)\n",
      "Requirement already satisfied: idna<4,>=2.5 in c:\\users\\calni\\appdata\\local\\programs\\python\\python39\\lib\\site-packages (from requests<3,>=2.21.0->tensorboard) (3.2)\n",
      "Requirement already satisfied: zipp>=0.5 in c:\\users\\calni\\appdata\\local\\programs\\python\\python39\\lib\\site-packages (from importlib-metadata>=4.4->markdown>=2.6.8->tensorboard) (3.6.0)\n",
      "Requirement already satisfied: pyasn1<0.5.0,>=0.4.6 in c:\\users\\calni\\appdata\\local\\programs\\python\\python39\\lib\\site-packages (from pyasn1-modules>=0.2.1->google-auth<3,>=1.6.3->tensorboard) (0.4.8)\n",
      "Requirement already satisfied: oauthlib>=3.0.0 in c:\\users\\calni\\appdata\\local\\programs\\python\\python39\\lib\\site-packages (from requests-oauthlib>=0.7.0->google-auth-oauthlib<0.5,>=0.4.1->tensorboard) (3.1.1)\n",
      "Note: you may need to restart the kernel to use updated packages.\n"
     ]
    },
    {
     "name": "stderr",
     "output_type": "stream",
     "text": [
      "WARNING: You are using pip version 22.0.2; however, version 22.0.3 is available.\n",
      "You should consider upgrading via the 'C:\\Users\\calni\\AppData\\Local\\Programs\\Python\\Python39\\python.exe -m pip install --upgrade pip' command.\n"
     ]
    }
   ],
   "source": [
    "pip install tensorboard"
   ]
  },
  {
   "cell_type": "code",
   "execution_count": 2,
   "metadata": {},
   "outputs": [
    {
     "name": "stdout",
     "output_type": "stream",
     "text": [
      "Requirement already satisfied: pip in c:\\users\\calni\\appdata\\local\\programs\\python\\python39\\lib\\site-packages (22.0.2)\n",
      "Collecting pip\n",
      "  Downloading pip-22.0.3-py3-none-any.whl (2.1 MB)\n",
      "     ---------------------------------------- 2.1/2.1 MB 1.3 MB/s eta 0:00:00\n",
      "Installing collected packages: pip\n",
      "  Attempting uninstall: pip\n",
      "    Found existing installation: pip 22.0.2\n",
      "    Uninstalling pip-22.0.2:\n",
      "      Successfully uninstalled pip-22.0.2\n",
      "Successfully installed pip-22.0.3\n",
      "Note: you may need to restart the kernel to use updated packages.\n"
     ]
    }
   ],
   "source": [
    "pip install --upgrade pip"
   ]
  },
  {
   "cell_type": "code",
   "execution_count": null,
   "metadata": {},
   "outputs": [],
   "source": []
  }
 ],
 "metadata": {
  "interpreter": {
   "hash": "1e2c72ee2e36ea6edab605d60919fcffffca7211ae717c9000ed9ada757ed87d"
  },
  "kernelspec": {
   "display_name": "Python 3.9.6 64-bit",
   "language": "python",
   "name": "python3"
  },
  "language_info": {
   "codemirror_mode": {
    "name": "ipython",
    "version": 3
   },
   "file_extension": ".py",
   "mimetype": "text/x-python",
   "name": "python",
   "nbconvert_exporter": "python",
   "pygments_lexer": "ipython3",
   "version": "3.9.6"
  },
  "orig_nbformat": 4
 },
 "nbformat": 4,
 "nbformat_minor": 2
}
