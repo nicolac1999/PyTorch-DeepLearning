{
 "cells": [
  {
   "cell_type": "code",
   "execution_count": null,
   "metadata": {},
   "outputs": [],
   "source": [
    "import torch\n",
    "import torch.nn as nn\n",
    "\n",
    "class SelfAttention(nn.Module):\n",
    "    # we have to split the embedding in different parts (heads)\n",
    "    # e.g. embedding_size= 256  heads=8 \n",
    "    # we obtain 8x32 parts\n",
    "    def __init__(self,embed_size,heads):\n",
    "        super().__init__()\n",
    "        self.embed_size=embed_size\n",
    "        self.heads=heads\n",
    "        self.head_dim= embed_size//heads\n",
    "\n",
    "        assert(self.head_dim*self.heads==self.embed_size), 'Embed size needs to be divisible by heads'\n",
    "\n",
    "        self.values=nn.Linear(self.head_dim,self.head_dim,bias=False)\n",
    "        self.keys=nn.Linear(self.head_dim,self.head_dim,bias=False)\n",
    "        self.queries=nn.Linear(self.head_dim,self.head_dim,bias=False)\n",
    "        self.fc_out=nn.Linear(self.heads*self.head_dim,self.embed_size)\n",
    "\n",
    "    def forward(self,values,keys,query,mask):\n",
    "        \n",
    "\n",
    "\n",
    "\n",
    "\n",
    "\n",
    "\n"
   ]
  }
 ],
 "metadata": {
  "language_info": {
   "name": "python"
  },
  "orig_nbformat": 4
 },
 "nbformat": 4,
 "nbformat_minor": 2
}
