{
 "cells": [
  {
   "cell_type": "code",
   "execution_count": null,
   "metadata": {},
   "outputs": [],
   "source": [
    "import torch\n",
    "import torch.nn as nn"
   ]
  },
  {
   "cell_type": "markdown",
   "metadata": {},
   "source": [
    "## Inception Block\n",
    "\n",
    "![inception_block](conv_block.jpg)\n",
    "\n"
   ]
  },
  {
   "cell_type": "code",
   "execution_count": null,
   "metadata": {},
   "outputs": [],
   "source": [
    "class conv_block(nn.Module):\n",
    "    def __init__(self,in_channels,out_channels,**kwargs):\n",
    "        super().__init__()\n",
    "        self.relu=nn.ReLU()\n",
    "        self.conv=nn.Conv2d(in_channels,out_channels,**kwargs)\n",
    "        self.batchnorm=nn.BatchNorm2d(out_channels)\n",
    "\n",
    "    def forward(self,x):\n",
    "        return self.relu(self.batchnorm(self.conv(x)))\n",
    "\n",
    "class Inception_block(nn.Module):\n",
    "    #all the following parameters indicate the number of filters\n",
    "    def __init__(self,in_channels,out_1x1,red_3x3,out_3x3,red_5x5,out_5x5,out_1x1pool):\n",
    "        super().__init__()\n",
    "        self.branch1=conv_block(in_channels,out_1x1,kernel_size=1)\n",
    "        self.branch2=nn.Sequential(\n",
    "            conv_block(in_channels,red_3x3,kernel_size=1),\n",
    "            conv_block(red_3x3,out_3x3,kernel_size=3,padding=1)\n",
    "        )\n",
    "        self.branch3=nn.Sequential(\n",
    "            conv_block(in_channels,red_5x5,kernel_size=1),\n",
    "            conv_block(red_5x5,out_5x5,kernel_size=5,padding=2)\n",
    "        )\n",
    "        self.branch4=nn.Sequential(\n",
    "            nn.MaxPool2d(kernel_size=3),\n",
    "            conv_block(in_channels,out_1x1pool,kernel_size=1,padding=1)\n",
    "        )\n",
    "\n",
    "    def forward(self,x):\n",
    "        # concatenate all the filters above\n",
    "        # dimension of concatenation\n",
    "        # N x filters x 28 x 28\n",
    "        return torch.cat([self.branch1(x),self.branch2(x),self.branch3(x),self.branch4(x)],dim=1)"
   ]
  },
  {
   "cell_type": "markdown",
   "metadata": {},
   "source": [
    "## Model Architecture\n",
    "\n",
    "![architecture](architecture.jpg)"
   ]
  },
  {
   "cell_type": "code",
   "execution_count": null,
   "metadata": {},
   "outputs": [],
   "source": [
    "class GoogleLeNet(nn.Module):\n",
    "    # this class uses the class Inception_block which uses the class conv_block\n",
    "    def __init__(self,in_channels=1,num_classes=1000):\n",
    "        super().__init__()\n",
    "\n",
    "        self.conv1=conv_block(in_channels=in_channels,out_channels=64,kernel_size=7,stride=2,padding=3)\n",
    "        self.maxpool1=nn.MaxPool2d(kernel_size=3,stride=2,padding=1)\n",
    "        self.conv2=conv_block(64,192,kernel_size=3,stride=1,padding=1)\n",
    "        self.maxpool2=nn.MaxPool2d(kernel_size=3,stride=2,padding=1)\n",
    "        # in_channels,out_1x1,red_3x3,out_3x3,red_5x5,out_5x5,out_1x1pool\n",
    "        self.inception3a=Inception_block(192,64,96,128,16,32,32)\n",
    "        self.inception3b=Inception_block(256,128,128,192,32,96,64)\n",
    "        self.maxpool3=nn.MaxPool2d(kernel_size=3,stride=2,padding=1)\n",
    "        self.inception4a=Inception_block(480,192,96,208,16,48,64)\n",
    "        self.inception4b=Inception_block(512,160,112,224,24,64,64)\n",
    "        self.inception4c=Inception_block(512,128,128,256,24,64,64)\n",
    "        self.inception4d=Inception_block(512,112,144,288,32,64,64)\n",
    "        self.inception4e=Inception_block(528,256,160,320,32,128,128)\n",
    "        self.maxpool4=nn.MaxPool2d(kernel_size=3,stride=2,padding=1)\n",
    "        self.inception5a=Inception_block(832,256,160,320,32,128,128)\n",
    "        self.inception5b=Inception_block(832,384,192,384,48,128,128)\n",
    "        self.avgpool=nn.AvgPool2d(7,stride=1)\n",
    "        self.drop=nn.Dropout(p=0.4)\n",
    "        self.fc1=nn.Linear(1024,1000)\n",
    "\n",
    "    def forward(self,x):\n",
    "        x=self.conv1(x)\n",
    "        x=self.maxpool1(x)\n",
    "        x=self.conv2(x)\n",
    "        x=self.maxpool2(x)\n",
    "\n",
    "        x=self.inception3a(x)\n",
    "        x=self.inception3b(x)\n",
    "        x=self.maxpool3(x)\n",
    "\n",
    "        x=self.inception4a(x)\n",
    "        x=self.inception4b(x)\n",
    "        x=self.inception4c(x)\n",
    "        x=self.inception4d(x)\n",
    "        x=self.inception4e(x)\n",
    "        x=self.maxpool4(x)\n",
    "\n",
    "        x=self.inception5a(x)\n",
    "        x=self.inception5b(x)\n",
    "        x=self.avgpool(x)\n",
    "        x=x.reshape(x.shape[0],-1)\n",
    "        x=self.drop(x)\n",
    "        x=self.fc1(x)\n",
    "        return x"
   ]
  },
  {
   "cell_type": "code",
   "execution_count": null,
   "metadata": {},
   "outputs": [],
   "source": [
    "x=torch.randn(3,3,224,224)\n",
    "model=GoogleLeNet()\n",
    "print(model(x).shape)"
   ]
  }
 ],
 "metadata": {
  "language_info": {
   "name": "python"
  },
  "orig_nbformat": 4
 },
 "nbformat": 4,
 "nbformat_minor": 2
}
