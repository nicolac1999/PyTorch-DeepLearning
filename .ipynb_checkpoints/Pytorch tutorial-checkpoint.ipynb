{
 "cells": [
  {
   "cell_type": "markdown",
   "id": "75b9c777",
   "metadata": {},
   "source": [
    "# Tensor Basics"
   ]
  },
  {
   "cell_type": "code",
   "execution_count": 1,
   "id": "d31a51ac",
   "metadata": {},
   "outputs": [],
   "source": [
    "import torch\n",
    "import numpy as np"
   ]
  },
  {
   "cell_type": "code",
   "execution_count": 2,
   "id": "78eb8a37",
   "metadata": {},
   "outputs": [],
   "source": [
    "x=torch.rand(3)"
   ]
  },
  {
   "cell_type": "code",
   "execution_count": 4,
   "id": "3e91e882",
   "metadata": {},
   "outputs": [
    {
     "data": {
      "text/plain": [
       "tensor([0.9220, 0.9072, 0.1890])"
      ]
     },
     "execution_count": 4,
     "metadata": {},
     "output_type": "execute_result"
    }
   ],
   "source": [
    "x"
   ]
  },
  {
   "cell_type": "code",
   "execution_count": 5,
   "id": "79efddc3",
   "metadata": {},
   "outputs": [
    {
     "data": {
      "text/plain": [
       "False"
      ]
     },
     "execution_count": 5,
     "metadata": {},
     "output_type": "execute_result"
    }
   ],
   "source": [
    "torch.cuda.is_available()"
   ]
  },
  {
   "cell_type": "code",
   "execution_count": 19,
   "id": "ff407a4f",
   "metadata": {},
   "outputs": [],
   "source": [
    "x=torch.ones(2,2,3,dtype=torch.int)"
   ]
  },
  {
   "cell_type": "code",
   "execution_count": 20,
   "id": "099b8b24",
   "metadata": {},
   "outputs": [
    {
     "data": {
      "text/plain": [
       "tensor([[[1, 1, 1],\n",
       "         [1, 1, 1]],\n",
       "\n",
       "        [[1, 1, 1],\n",
       "         [1, 1, 1]]], dtype=torch.int32)"
      ]
     },
     "execution_count": 20,
     "metadata": {},
     "output_type": "execute_result"
    }
   ],
   "source": [
    "x"
   ]
  },
  {
   "cell_type": "code",
   "execution_count": 21,
   "id": "c20deede",
   "metadata": {},
   "outputs": [
    {
     "data": {
      "text/plain": [
       "torch.int32"
      ]
     },
     "execution_count": 21,
     "metadata": {},
     "output_type": "execute_result"
    }
   ],
   "source": [
    "x.dtype"
   ]
  },
  {
   "cell_type": "code",
   "execution_count": 22,
   "id": "3e2b688c",
   "metadata": {},
   "outputs": [
    {
     "data": {
      "text/plain": [
       "torch.Size([2, 2, 3])"
      ]
     },
     "execution_count": 22,
     "metadata": {},
     "output_type": "execute_result"
    }
   ],
   "source": [
    "x.size()"
   ]
  },
  {
   "cell_type": "code",
   "execution_count": 23,
   "id": "8de399af",
   "metadata": {},
   "outputs": [],
   "source": [
    "x=torch.tensor([2.5,0.1])"
   ]
  },
  {
   "cell_type": "code",
   "execution_count": 24,
   "id": "88806ad0",
   "metadata": {},
   "outputs": [
    {
     "data": {
      "text/plain": [
       "tensor([2.5000, 0.1000])"
      ]
     },
     "execution_count": 24,
     "metadata": {},
     "output_type": "execute_result"
    }
   ],
   "source": [
    "x"
   ]
  },
  {
   "cell_type": "code",
   "execution_count": 25,
   "id": "91688432",
   "metadata": {},
   "outputs": [],
   "source": [
    "x=torch.rand(2,2)\n",
    "y=torch.rand(2,2)\n"
   ]
  },
  {
   "cell_type": "code",
   "execution_count": 26,
   "id": "a43ba6dc",
   "metadata": {},
   "outputs": [
    {
     "data": {
      "text/plain": [
       "tensor([[1.0735, 0.0612],\n",
       "        [0.9774, 1.7964]])"
      ]
     },
     "execution_count": 26,
     "metadata": {},
     "output_type": "execute_result"
    }
   ],
   "source": [
    "x+y"
   ]
  },
  {
   "cell_type": "code",
   "execution_count": 27,
   "id": "c9f710ab",
   "metadata": {},
   "outputs": [
    {
     "data": {
      "text/plain": [
       "tensor([[1.0735, 0.0612],\n",
       "        [0.9774, 1.7964]])"
      ]
     },
     "execution_count": 27,
     "metadata": {},
     "output_type": "execute_result"
    }
   ],
   "source": [
    "torch.add(x,y)"
   ]
  },
  {
   "cell_type": "code",
   "execution_count": 28,
   "id": "9a2bff77",
   "metadata": {},
   "outputs": [
    {
     "data": {
      "text/plain": [
       "tensor([[0.2193, 0.0224],\n",
       "        [0.5289, 0.8690]])"
      ]
     },
     "execution_count": 28,
     "metadata": {},
     "output_type": "execute_result"
    }
   ],
   "source": [
    "#ogni funzione che ha un underscore do an in place operation qundi modifica la variabile a cui\n",
    "#è applicata\n",
    "y"
   ]
  },
  {
   "cell_type": "code",
   "execution_count": 29,
   "id": "0af443af",
   "metadata": {},
   "outputs": [
    {
     "data": {
      "text/plain": [
       "tensor([[1.0735, 0.0612],\n",
       "        [0.9774, 1.7964]])"
      ]
     },
     "execution_count": 29,
     "metadata": {},
     "output_type": "execute_result"
    }
   ],
   "source": [
    "y.add_(x)"
   ]
  },
  {
   "cell_type": "code",
   "execution_count": 30,
   "id": "26f28a43",
   "metadata": {},
   "outputs": [
    {
     "data": {
      "text/plain": [
       "tensor([[1.0735, 0.0612],\n",
       "        [0.9774, 1.7964]])"
      ]
     },
     "execution_count": 30,
     "metadata": {},
     "output_type": "execute_result"
    }
   ],
   "source": [
    "y"
   ]
  },
  {
   "cell_type": "code",
   "execution_count": 31,
   "id": "74fb23e7",
   "metadata": {},
   "outputs": [
    {
     "data": {
      "text/plain": [
       "tensor([[0.9170, 0.0024],\n",
       "        [0.4384, 1.6659]])"
      ]
     },
     "execution_count": 31,
     "metadata": {},
     "output_type": "execute_result"
    }
   ],
   "source": [
    "y.mul_(x)"
   ]
  },
  {
   "cell_type": "code",
   "execution_count": 32,
   "id": "71e72ef0",
   "metadata": {},
   "outputs": [
    {
     "data": {
      "text/plain": [
       "tensor([[0.9170, 0.0024],\n",
       "        [0.4384, 1.6659]])"
      ]
     },
     "execution_count": 32,
     "metadata": {},
     "output_type": "execute_result"
    }
   ],
   "source": [
    "y"
   ]
  },
  {
   "cell_type": "code",
   "execution_count": 45,
   "id": "f1df5963",
   "metadata": {},
   "outputs": [],
   "source": [
    "a=torch.ones(5)"
   ]
  },
  {
   "cell_type": "code",
   "execution_count": 46,
   "id": "808367f4",
   "metadata": {},
   "outputs": [],
   "source": [
    "b=a.numpy()"
   ]
  },
  {
   "cell_type": "code",
   "execution_count": 47,
   "id": "12dcc188",
   "metadata": {},
   "outputs": [
    {
     "data": {
      "text/plain": [
       "array([1., 1., 1., 1., 1.], dtype=float32)"
      ]
     },
     "execution_count": 47,
     "metadata": {},
     "output_type": "execute_result"
    }
   ],
   "source": [
    "b"
   ]
  },
  {
   "cell_type": "code",
   "execution_count": 48,
   "id": "30598074",
   "metadata": {},
   "outputs": [
    {
     "data": {
      "text/plain": [
       "tensor([1., 1., 1., 1., 1.])"
      ]
     },
     "execution_count": 48,
     "metadata": {},
     "output_type": "execute_result"
    }
   ],
   "source": [
    "a"
   ]
  },
  {
   "cell_type": "code",
   "execution_count": 49,
   "id": "50db2203",
   "metadata": {},
   "outputs": [
    {
     "data": {
      "text/plain": [
       "tensor([2., 2., 2., 2., 2.])"
      ]
     },
     "execution_count": 49,
     "metadata": {},
     "output_type": "execute_result"
    }
   ],
   "source": [
    "a.add_(1)"
   ]
  },
  {
   "cell_type": "code",
   "execution_count": 50,
   "id": "8f83618b",
   "metadata": {},
   "outputs": [
    {
     "data": {
      "text/plain": [
       "tensor([2., 2., 2., 2., 2.])"
      ]
     },
     "execution_count": 50,
     "metadata": {},
     "output_type": "execute_result"
    }
   ],
   "source": [
    "a"
   ]
  },
  {
   "cell_type": "code",
   "execution_count": 51,
   "id": "9e53dae1",
   "metadata": {},
   "outputs": [
    {
     "data": {
      "text/plain": [
       "array([2., 2., 2., 2., 2.], dtype=float32)"
      ]
     },
     "execution_count": 51,
     "metadata": {},
     "output_type": "execute_result"
    }
   ],
   "source": [
    "b # anche b è cambiato perche tutti e due puntano alla stessa memory location"
   ]
  },
  {
   "cell_type": "code",
   "execution_count": 52,
   "id": "536953cc",
   "metadata": {},
   "outputs": [],
   "source": [
    "a=np.ones(5)"
   ]
  },
  {
   "cell_type": "code",
   "execution_count": 53,
   "id": "5b1a096e",
   "metadata": {},
   "outputs": [],
   "source": [
    "b=torch.from_numpy(a)"
   ]
  },
  {
   "cell_type": "code",
   "execution_count": 54,
   "id": "a0364148",
   "metadata": {},
   "outputs": [
    {
     "data": {
      "text/plain": [
       "array([1., 1., 1., 1., 1.])"
      ]
     },
     "execution_count": 54,
     "metadata": {},
     "output_type": "execute_result"
    }
   ],
   "source": [
    "a"
   ]
  },
  {
   "cell_type": "code",
   "execution_count": 55,
   "id": "5cf2edc0",
   "metadata": {},
   "outputs": [
    {
     "data": {
      "text/plain": [
       "tensor([1., 1., 1., 1., 1.], dtype=torch.float64)"
      ]
     },
     "execution_count": 55,
     "metadata": {},
     "output_type": "execute_result"
    }
   ],
   "source": [
    "b"
   ]
  },
  {
   "cell_type": "code",
   "execution_count": 56,
   "id": "b5b4ed8a",
   "metadata": {},
   "outputs": [],
   "source": [
    "a+=1"
   ]
  },
  {
   "cell_type": "code",
   "execution_count": 57,
   "id": "3acade2d",
   "metadata": {},
   "outputs": [
    {
     "data": {
      "text/plain": [
       "array([2., 2., 2., 2., 2.])"
      ]
     },
     "execution_count": 57,
     "metadata": {},
     "output_type": "execute_result"
    }
   ],
   "source": [
    "a"
   ]
  },
  {
   "cell_type": "code",
   "execution_count": 58,
   "id": "c5da1a8b",
   "metadata": {},
   "outputs": [
    {
     "data": {
      "text/plain": [
       "tensor([2., 2., 2., 2., 2.], dtype=torch.float64)"
      ]
     },
     "execution_count": 58,
     "metadata": {},
     "output_type": "execute_result"
    }
   ],
   "source": [
    "b # anche b è cambiato perche tutti e due puntano alla stessa memory location"
   ]
  },
  {
   "cell_type": "code",
   "execution_count": null,
   "id": "855c0acd",
   "metadata": {},
   "outputs": [],
   "source": [
    "if torch.cuda.is_available():\n",
    "    device=torch.device('cuda')\n",
    "    x=torch.ones(5,device=device)\n",
    "    y=torch.ones(5)\n",
    "    y=y.to(device)\n",
    "    z=x+y #il tensore in questo modo si troverà sulla gpu e non è possibile trasformarlo direttamente\n",
    "        # in un numpy array perchè numpy can only handle cpu tensor\n",
    "    z=z.to('cpu')\n",
    "    z=z.numpy()\n",
    "    "
   ]
  },
  {
   "cell_type": "code",
   "execution_count": 19,
   "id": "83251373",
   "metadata": {},
   "outputs": [],
   "source": [
    "x=torch.randn(3,requires_grad=True)\n",
    "# vuol dire che bisognerà calcolare i gradienti per questo tensore nell'optimization steps"
   ]
  },
  {
   "cell_type": "code",
   "execution_count": 5,
   "id": "543c82d5",
   "metadata": {},
   "outputs": [
    {
     "data": {
      "text/plain": [
       "tensor([ 0.5115, -0.7729,  0.1698], requires_grad=True)"
      ]
     },
     "execution_count": 5,
     "metadata": {},
     "output_type": "execute_result"
    }
   ],
   "source": [
    "x"
   ]
  },
  {
   "cell_type": "code",
   "execution_count": 6,
   "id": "c02a8116",
   "metadata": {},
   "outputs": [],
   "source": [
    "y=x+2"
   ]
  },
  {
   "cell_type": "code",
   "execution_count": 7,
   "id": "c631ffff",
   "metadata": {},
   "outputs": [
    {
     "data": {
      "text/plain": [
       "tensor([2.5115, 1.2271, 2.1698], grad_fn=<AddBackward0>)"
      ]
     },
     "execution_count": 7,
     "metadata": {},
     "output_type": "execute_result"
    }
   ],
   "source": [
    "y"
   ]
  },
  {
   "cell_type": "code",
   "execution_count": 8,
   "id": "b1a4fcba",
   "metadata": {},
   "outputs": [],
   "source": [
    "z=y*y*2"
   ]
  },
  {
   "cell_type": "code",
   "execution_count": 9,
   "id": "1d3c710b",
   "metadata": {},
   "outputs": [
    {
     "data": {
      "text/plain": [
       "tensor([12.6148,  3.0113,  9.4165], grad_fn=<MulBackward0>)"
      ]
     },
     "execution_count": 9,
     "metadata": {},
     "output_type": "execute_result"
    }
   ],
   "source": [
    "z"
   ]
  },
  {
   "cell_type": "code",
   "execution_count": 10,
   "id": "6349d1db",
   "metadata": {},
   "outputs": [],
   "source": [
    "z=z.mean()"
   ]
  },
  {
   "cell_type": "code",
   "execution_count": 11,
   "id": "58558a64",
   "metadata": {},
   "outputs": [
    {
     "data": {
      "text/plain": [
       "tensor(8.3475, grad_fn=<MeanBackward0>)"
      ]
     },
     "execution_count": 11,
     "metadata": {},
     "output_type": "execute_result"
    }
   ],
   "source": [
    "z"
   ]
  },
  {
   "cell_type": "code",
   "execution_count": 12,
   "id": "a3642d59",
   "metadata": {},
   "outputs": [],
   "source": [
    "z.backward() #dz/dx\n",
    "\n",
    "#se la variabile su cui chiamiamo backward non è uno scalare allora dobbiamo passare\n",
    "#in input un vettore della stessa dimensione\n",
    "#v=torch.tensor([0.1,1,0.001],dtype=torch.float32)\n",
    "#z.backward(v)"
   ]
  },
  {
   "cell_type": "code",
   "execution_count": 13,
   "id": "44cb7518",
   "metadata": {},
   "outputs": [
    {
     "data": {
      "text/plain": [
       "tensor(8.3475, grad_fn=<MeanBackward0>)"
      ]
     },
     "execution_count": 13,
     "metadata": {},
     "output_type": "execute_result"
    }
   ],
   "source": [
    "z"
   ]
  },
  {
   "cell_type": "code",
   "execution_count": 16,
   "id": "6380ece1",
   "metadata": {},
   "outputs": [
    {
     "data": {
      "text/plain": [
       "tensor([3.3486, 1.6361, 2.8931])"
      ]
     },
     "execution_count": 16,
     "metadata": {},
     "output_type": "execute_result"
    }
   ],
   "source": [
    "x.grad"
   ]
  },
  {
   "cell_type": "code",
   "execution_count": null,
   "id": "5ea5ed3c",
   "metadata": {},
   "outputs": [],
   "source": [
    "#per evitare che vengano calcolati i gradienti \n",
    "#tacking the history of gradients in the computational graph\n",
    "\n",
    "#x.requires_grad_(False) quando l underscore sta alla fine vuol dire che la funzione modifica\n",
    "#                        la variabile in place\n",
    "#x.detach()\n",
    "#with torch.no_grad():"
   ]
  },
  {
   "cell_type": "code",
   "execution_count": 17,
   "id": "4a697d0e",
   "metadata": {},
   "outputs": [
    {
     "data": {
      "text/plain": [
       "tensor([ 0.5115, -0.7729,  0.1698], requires_grad=True)"
      ]
     },
     "execution_count": 17,
     "metadata": {},
     "output_type": "execute_result"
    }
   ],
   "source": [
    "x"
   ]
  },
  {
   "cell_type": "code",
   "execution_count": 18,
   "id": "76a88509",
   "metadata": {},
   "outputs": [
    {
     "data": {
      "text/plain": [
       "tensor([ 0.5115, -0.7729,  0.1698])"
      ]
     },
     "execution_count": 18,
     "metadata": {},
     "output_type": "execute_result"
    }
   ],
   "source": [
    "x.requires_grad_(False)"
   ]
  },
  {
   "cell_type": "code",
   "execution_count": 20,
   "id": "c050d1f2",
   "metadata": {},
   "outputs": [],
   "source": [
    "y=x.detach()"
   ]
  },
  {
   "cell_type": "code",
   "execution_count": 21,
   "id": "2651a6df",
   "metadata": {},
   "outputs": [
    {
     "data": {
      "text/plain": [
       "tensor([ 0.7646, -0.8215, -0.2554])"
      ]
     },
     "execution_count": 21,
     "metadata": {},
     "output_type": "execute_result"
    }
   ],
   "source": [
    "y"
   ]
  },
  {
   "cell_type": "code",
   "execution_count": 22,
   "id": "acf443f8",
   "metadata": {},
   "outputs": [],
   "source": [
    "with torch.no_grad():\n",
    "    y=x+2"
   ]
  },
  {
   "cell_type": "code",
   "execution_count": 23,
   "id": "4be6f218",
   "metadata": {},
   "outputs": [
    {
     "data": {
      "text/plain": [
       "tensor([2.7646, 1.1785, 1.7446])"
      ]
     },
     "execution_count": 23,
     "metadata": {},
     "output_type": "execute_result"
    }
   ],
   "source": [
    "y"
   ]
  },
  {
   "cell_type": "code",
   "execution_count": 24,
   "id": "47c9165a",
   "metadata": {},
   "outputs": [
    {
     "name": "stdout",
     "output_type": "stream",
     "text": [
      "tensor([3., 3., 3., 3.])\n",
      "tensor([3., 3., 3., 3.])\n",
      "tensor([3., 3., 3., 3.])\n"
     ]
    }
   ],
   "source": [
    "# ogni volta che viene chiamata la funzione backward i gradienti vengono sommati, accumulati \n",
    "# nella variabile x.grad, per evitare questo bisogna azzerarli ogni volta\n",
    "# x.grad.zero_()\n",
    "\n",
    "weights=torch.ones(4,requires_grad=True)\n",
    "\n",
    "for epoch in range(3):\n",
    "    model_output=(weights*3).sum()\n",
    "    \n",
    "    model_output.backward()\n",
    "    \n",
    "    print(weights.grad)\n",
    "    \n",
    "    weights.grad.zero_()"
   ]
  },
  {
   "cell_type": "code",
   "execution_count": 29,
   "id": "11d79228",
   "metadata": {},
   "outputs": [
    {
     "name": "stdout",
     "output_type": "stream",
     "text": [
      "tensor(1., grad_fn=<PowBackward0>)\n",
      "tensor(-2.)\n"
     ]
    }
   ],
   "source": [
    "x=torch.tensor(1.0)\n",
    "y=torch.tensor(2.0)\n",
    "w=torch.tensor(1.0,requires_grad=True)\n",
    "\n",
    "#forward pass\n",
    "y_hat=w*x\n",
    "loss=(y_hat-y)**2\n",
    "print(loss)\n",
    "#backward pass\n",
    "loss.backward()\n",
    "\n",
    "\n",
    "print(w.grad)"
   ]
  },
  {
   "cell_type": "code",
   "execution_count": null,
   "id": "42b90331",
   "metadata": {},
   "outputs": [],
   "source": []
  },
  {
   "cell_type": "markdown",
   "id": "3da03544",
   "metadata": {},
   "source": [
    "# Gradient descent"
   ]
  },
  {
   "cell_type": "code",
   "execution_count": 41,
   "id": "378bd383",
   "metadata": {},
   "outputs": [
    {
     "name": "stdout",
     "output_type": "stream",
     "text": [
      "Prediction before training : f(5) = 0.000\n",
      "epoch 1: w= 1.200,loss=30.00000000\n",
      "epoch 2: w= 1.680,loss=4.79999924\n",
      "epoch 3: w= 1.872,loss=0.76800019\n",
      "epoch 4: w= 1.949,loss=0.12288000\n",
      "epoch 5: w= 1.980,loss=0.01966083\n",
      "epoch 6: w= 1.992,loss=0.00314570\n",
      "epoch 7: w= 1.997,loss=0.00050332\n",
      "epoch 8: w= 1.999,loss=0.00008053\n",
      "epoch 9: w= 1.999,loss=0.00001288\n",
      "epoch 10: w= 2.000,loss=0.00000206\n",
      "Prediction after training : f(5) = 9.999\n"
     ]
    }
   ],
   "source": [
    "X=np.array([1,2,3,4],dtype=np.float32)\n",
    "Y=np.array([2,4,6,8],dtype=np.float32)\n",
    "\n",
    "w=0\n",
    "\n",
    "def forward(x):\n",
    "    return w*x  #dato che w non viene modificata allora è possibile dichiararla fuori\n",
    "                #w è una variabile globale \n",
    "                #se la si vuole modificate all'interno della funzione allora sarà ritornato un errore\n",
    "                #per modificarla bisogna bisogna specificare che ci stiamo riferendo alla \n",
    "                # variabile globale w con global w\n",
    "                \n",
    "\n",
    "def loss(y,y_predicted):\n",
    "    return((y_predicted-y)**2).mean()\n",
    "\n",
    "# gradient\n",
    "# MSE= 1/N *(w*x-y)**2\n",
    "# dJ/dx = 1/N *2x * (w*x-y)\n",
    "\n",
    "def gradient(x,y,y_predicted):\n",
    "    return np.dot(2*x,y_predicted-y).mean()\n",
    "\n",
    "print(f'Prediction before training : f(5) = {forward(5):.3f}')\n",
    "\n",
    "#training\n",
    "lr=0.01\n",
    "n_iters=10\n",
    "\n",
    "for epoch in range(n_iters):\n",
    "    \n",
    "    #prediction = forward pass\n",
    "    y_pred=forward(X)\n",
    "    \n",
    "    #loss\n",
    "    l=loss(Y,y_pred)\n",
    "    \n",
    "    #gradients\n",
    "    dw=gradient(X,Y,y_pred)\n",
    "    \n",
    "    #update weights\n",
    "    w-=lr*dw\n",
    "    \n",
    "    if epoch % 1==0:\n",
    "        print(f'epoch {epoch+1}: w= {w:.3f},loss={l:.8f}')\n",
    "        \n",
    "print(f'Prediction after training : f(5) = {forward(5):.3f}')"
   ]
  },
  {
   "cell_type": "code",
   "execution_count": null,
   "id": "c2801e9d",
   "metadata": {},
   "outputs": [],
   "source": []
  },
  {
   "cell_type": "markdown",
   "id": "86225292",
   "metadata": {},
   "source": [
    "# Gradient descent with autograd and backpropagation"
   ]
  },
  {
   "cell_type": "code",
   "execution_count": 46,
   "id": "5b66c383",
   "metadata": {},
   "outputs": [
    {
     "name": "stdout",
     "output_type": "stream",
     "text": [
      "Prediction before training : f(5) = 0.000\n",
      "epoch 1: w= 0.300,loss=30.00000000\n",
      "epoch 2: w= 0.555,loss=21.67499924\n",
      "epoch 3: w= 0.772,loss=15.66018772\n",
      "epoch 4: w= 0.956,loss=11.31448650\n",
      "epoch 5: w= 1.113,loss=8.17471695\n",
      "epoch 6: w= 1.246,loss=5.90623236\n",
      "epoch 7: w= 1.359,loss=4.26725292\n",
      "epoch 8: w= 1.455,loss=3.08308983\n",
      "epoch 9: w= 1.537,loss=2.22753215\n",
      "epoch 10: w= 1.606,loss=1.60939169\n",
      "Prediction after training : f(5) = 8.031\n"
     ]
    }
   ],
   "source": [
    "X=torch.tensor([1,2,3,4])\n",
    "Y=torch.tensor([2,4,6,8])\n",
    "\n",
    "w=torch.tensor(0.0,requires_grad=True)\n",
    "\n",
    "def forward(x):\n",
    "    return w*x  #dato che w non viene modificata allora è possibile dichiararla fuori\n",
    "                #w è una variabile globale \n",
    "                #se la si vuole modificate all'interno della funzione allora sarà ritornato un errore\n",
    "                #per modificarla bisogna bisogna specificare che ci stiamo riferendo alla \n",
    "                # variabile globale w con global w\n",
    "                \n",
    "\n",
    "def loss(y,y_predicted):\n",
    "    return((y_predicted-y)**2).mean()\n",
    "\n",
    "\n",
    "\n",
    "print(f'Prediction before training : f(5) = {forward(5):.3f}')\n",
    "\n",
    "#training\n",
    "lr=0.01\n",
    "n_iters=10\n",
    "\n",
    "for epoch in range(n_iters):\n",
    "    \n",
    "    #prediction = forward pass\n",
    "    y_pred=forward(X)\n",
    "    \n",
    "    #loss\n",
    "    l=loss(Y,y_pred)\n",
    "    \n",
    "    #gradients\n",
    "    l.backward()\n",
    "    \n",
    "    #update weights\n",
    "    #PyTorch doesn’t allow in-place operations on leaf variables\n",
    "    #that have requires_grad=True (such as parameters of your model) \n",
    "    #because the developers could not decide how such an operation should behave\n",
    "    with torch.no_grad():\n",
    "        w-=lr*w.grad\n",
    "    \n",
    "    w.grad.zero_()\n",
    "    \n",
    "    if epoch % 1==0:\n",
    "        print(f'epoch {epoch+1}: w= {w:.3f},loss={l:.8f}')\n",
    "        \n",
    "print(f'Prediction after training : f(5) = {forward(5):.3f}')\n",
    "\n",
    "\n",
    "\n"
   ]
  },
  {
   "cell_type": "code",
   "execution_count": 47,
   "id": "ee2a7b40",
   "metadata": {},
   "outputs": [],
   "source": [
    "x=torch.tensor([2,3,4])"
   ]
  },
  {
   "cell_type": "code",
   "execution_count": 48,
   "id": "c8d71c98",
   "metadata": {},
   "outputs": [],
   "source": [
    "x+=2"
   ]
  },
  {
   "cell_type": "code",
   "execution_count": 49,
   "id": "403c7bcd",
   "metadata": {},
   "outputs": [
    {
     "data": {
      "text/plain": [
       "tensor([4, 5, 6])"
      ]
     },
     "execution_count": 49,
     "metadata": {},
     "output_type": "execute_result"
    }
   ],
   "source": [
    "x"
   ]
  },
  {
   "cell_type": "code",
   "execution_count": 51,
   "id": "5e469940",
   "metadata": {},
   "outputs": [],
   "source": [
    "x=torch.tensor([2,3,4],requires_grad=True,dtype=torch.float32)"
   ]
  },
  {
   "cell_type": "code",
   "execution_count": 52,
   "id": "31e0608b",
   "metadata": {},
   "outputs": [
    {
     "data": {
      "text/plain": [
       "tensor([2., 3., 4.], requires_grad=True)"
      ]
     },
     "execution_count": 52,
     "metadata": {},
     "output_type": "execute_result"
    }
   ],
   "source": [
    "x"
   ]
  },
  {
   "cell_type": "code",
   "execution_count": 53,
   "id": "600c415d",
   "metadata": {},
   "outputs": [
    {
     "ename": "RuntimeError",
     "evalue": "a leaf Variable that requires grad is being used in an in-place operation.",
     "output_type": "error",
     "traceback": [
      "\u001b[1;31m---------------------------------------------------------------------------\u001b[0m",
      "\u001b[1;31mRuntimeError\u001b[0m                              Traceback (most recent call last)",
      "\u001b[1;32m~\\AppData\\Local\\Temp/ipykernel_13668/585000414.py\u001b[0m in \u001b[0;36m<module>\u001b[1;34m\u001b[0m\n\u001b[1;32m----> 1\u001b[1;33m \u001b[0mx\u001b[0m\u001b[1;33m+=\u001b[0m\u001b[1;36m2\u001b[0m\u001b[1;33m\u001b[0m\u001b[1;33m\u001b[0m\u001b[0m\n\u001b[0m",
      "\u001b[1;31mRuntimeError\u001b[0m: a leaf Variable that requires grad is being used in an in-place operation."
     ]
    }
   ],
   "source": [
    "x+=2"
   ]
  },
  {
   "cell_type": "code",
   "execution_count": 54,
   "id": "48abdf42",
   "metadata": {},
   "outputs": [],
   "source": [
    "with torch.no_grad():\n",
    "    x+=2"
   ]
  },
  {
   "cell_type": "code",
   "execution_count": 55,
   "id": "b90da53f",
   "metadata": {},
   "outputs": [
    {
     "data": {
      "text/plain": [
       "tensor([4., 5., 6.], requires_grad=True)"
      ]
     },
     "execution_count": 55,
     "metadata": {},
     "output_type": "execute_result"
    }
   ],
   "source": [
    "x"
   ]
  },
  {
   "cell_type": "markdown",
   "id": "bf15e849",
   "metadata": {},
   "source": [
    "## Training pipeline\n",
    "\n",
    "* design model (input,output size,forward pass)\n",
    "* construct loss and optimizer\n",
    "* training loop:\n",
    "     *  forward pass: compute prediction\n",
    "     * backward pass : gradients\n",
    "     * update weights"
   ]
  },
  {
   "cell_type": "code",
   "execution_count": 2,
   "id": "a040c84b",
   "metadata": {},
   "outputs": [],
   "source": [
    "import torch\n",
    "import torch.nn as nn\n",
    "\n",
    "X=torch.tensor([[1],[2],[3],[4]],dtype=torch.float32)\n",
    "Y=torch.tensor([[2],[4],[6],[8]],dtype=torch.float32)\n",
    "\n",
    "X_test=torch.tensor([5],dtype=torch.float32)\n",
    "\n",
    "n_samples,n_features=X.shape\n",
    "\n",
    "input_size=n_features\n",
    "output_size=n_features\n",
    "\n",
    "#model= nn.Linear(input_size,output_size)\n",
    "\n",
    "class LinearRegression(nn.Module):\n",
    "\n",
    "    def __init__(self,input_dim,output_dim):\n",
    "        #super(LinearRegression,self).__init__()\n",
    "        super().__init__()\n",
    "        #define layers\n",
    "        self.lin=nn.Linear(input_dim,output_dim)\n",
    "    \n",
    "    def forward(self,x):\n",
    "        return self.lin(x)\n",
    "\n",
    "model= LinearRegression(input_size,output_size)\n",
    "\n",
    "print(f'Prediction before training : f(5) = {model(X_test).item():.3f}')\n",
    "\n",
    "#training\n",
    "lr=0.01\n",
    "n_iters=100\n",
    "\n",
    "loss=nn.MSELoss()\n",
    "optimizer=torch.optim.SGD(model.parameters(),lr=lr)\n",
    "\n",
    "for epoch in range(n_iters):\n",
    "    \n",
    "    #prediction = forward pass\n",
    "    y_pred=model(X)\n",
    "    \n",
    "    #loss\n",
    "    l=loss(Y,y_pred)\n",
    "    \n",
    "    #gradients\n",
    "    l.backward()\n",
    "    \n",
    "    #update weights\n",
    "    optimizer.step()\n",
    "\n",
    "    optimizer.zero_grad()\n",
    "    \n",
    "    if epoch % 10==0:\n",
    "        [w,b]=model.parameters()\n",
    "        print(f'epoch {epoch+1}: w= {w[0][0]:.3f},loss={l:.8f}')\n",
    "        \n",
    "print(f'Prediction before training : f(5) = {model(X_test).item():.3f}')\n"
   ]
  },
  {
   "cell_type": "code",
   "execution_count": null,
   "id": "c2842267",
   "metadata": {},
   "outputs": [],
   "source": []
  },
  {
   "cell_type": "markdown",
   "id": "aa7f26c2",
   "metadata": {},
   "source": [
    "# Linear Regression"
   ]
  },
  {
   "cell_type": "code",
   "execution_count": 29,
   "id": "6466112a",
   "metadata": {},
   "outputs": [
    {
     "name": "stdout",
     "output_type": "stream",
     "text": [
      "epoch 1 , loss 5828.7080\n",
      "epoch 11 , loss 4317.2529\n",
      "epoch 21 , loss 3224.1060\n",
      "epoch 31 , loss 2432.6299\n",
      "epoch 41 , loss 1858.9894\n",
      "epoch 51 , loss 1442.8387\n",
      "epoch 61 , loss 1140.6775\n",
      "epoch 71 , loss 921.1057\n",
      "epoch 81 , loss 761.4321\n",
      "epoch 91 , loss 645.2377\n"
     ]
    },
    {
     "data": {
      "image/png": "[encoded data removed]",
      "text/plain": [
       "<Figure size 432x288 with 1 Axes>"
      ]
     },
     "metadata": {
      "needs_background": "light"
     },
     "output_type": "display_data"
    }
   ],
   "source": [
    "import torch\n",
    "import torch.nn as nn \n",
    "import numpy as np\n",
    "from sklearn import datasets\n",
    "import matplotlib.pyplot as plt\n",
    "\n",
    "# 0 prepare data\n",
    "\n",
    "x_numpy,y_numpy=datasets.make_regression(n_samples=100,n_features=1,noise=20,random_state=1)\n",
    "\n",
    "x=torch.from_numpy(x_numpy.astype(np.float32))\n",
    "y=torch.from_numpy(y_numpy.astype(np.float32))\n",
    "\n",
    "y=y.view(y.shape[0],1)\n",
    "\n",
    "n_samples,n_features=x.shape\n",
    "\n",
    "# 1 model\n",
    "\n",
    "input_size=n_features\n",
    "output_size=1\n",
    "\n",
    "model= nn.Linear(input_size,output_size)\n",
    "\n",
    "# 2 loss and optimizer\n",
    "lr=0.01\n",
    "criterion=nn.MSELoss()\n",
    "optimizer=torch.optim.SGD(model.parameters(),lr=lr)\n",
    "\n",
    "# 3 training loop\n",
    "num_epoch=100\n",
    "for epoch in range(num_epoch):\n",
    "    y_pred=model(x)\n",
    "    loss=criterion(y_pred,y)\n",
    "\n",
    "    loss.backward()\n",
    "\n",
    "    optimizer.step()\n",
    "\n",
    "    optimizer.zero_grad()\n",
    "\n",
    "    if epoch % 10 ==0:\n",
    "        \n",
    "        print(f'epoch {epoch+1} , loss {loss.item():.4f}')\n",
    "\n",
    "#plot\n",
    "\n",
    "predicted=model(x).detach().numpy()\n",
    "plt.plot(x_numpy,y_numpy,'ro')\n",
    "plt.plot(x_numpy,predicted,'b')\n",
    "plt.show()\n"
   ]
  },
  {
   "cell_type": "code",
   "execution_count": null,
   "id": "0f81d75c",
   "metadata": {},
   "outputs": [],
   "source": []
  },
  {
   "cell_type": "markdown",
   "id": "f55051f5",
   "metadata": {},
   "source": [
    "# Logistic Regression"
   ]
  },
  {
   "cell_type": "code",
   "execution_count": 35,
   "id": "6763e2ed",
   "metadata": {},
   "outputs": [
    {
     "name": "stdout",
     "output_type": "stream",
     "text": [
      "epoch 1 , loss 0.6697\n",
      "epoch 11 , loss 0.5162\n",
      "epoch 21 , loss 0.4278\n",
      "epoch 31 , loss 0.3716\n",
      "epoch 41 , loss 0.3327\n",
      "epoch 51 , loss 0.3040\n",
      "epoch 61 , loss 0.2818\n",
      "epoch 71 , loss 0.2641\n",
      "epoch 81 , loss 0.2496\n",
      "epoch 91 , loss 0.2374\n",
      "accuracy = 0.9298\n"
     ]
    }
   ],
   "source": [
    "import torch\n",
    "import torch.nn as nn \n",
    "import numpy as np\n",
    "from sklearn import datasets\n",
    "from sklearn.preprocessing import StandardScaler\n",
    "from sklearn.model_selection import train_test_split\n",
    "\n",
    "bc=datasets.load_breast_cancer()\n",
    "\n",
    "\n",
    "x,y=bc.data, bc.target\n",
    "\n",
    "n_samples,n_features=x.shape\n",
    "\n",
    "X_train,X_test,y_train,y_test=train_test_split(x,y,test_size=0.2,random_state=1234)\n",
    "\n",
    "# scale\n",
    "\n",
    "sc=StandardScaler()               #in modo che le features abbiano media zero e vaianza 1\n",
    "X_train=sc.fit_transform(X_train) # calcola ma media e la std e le usa per standardizzare il train\n",
    "X_test=sc.transform(X_test)     # usa la media e la std trovata nel train per standardizzare il test\n",
    "\n",
    "\n",
    "X_train=torch.from_numpy(X_train.astype(np.float32))\n",
    "X_test=torch.from_numpy(X_test.astype(np.float32))\n",
    "y_train=torch.from_numpy(y_train.astype(np.float32))\n",
    "y_test=torch.from_numpy(y_test.astype(np.float32))\n",
    "\n",
    "y_train=y_train.view(y_train.shape[0],1)\n",
    "y_test=y_test.view(y_test.shape[0],1)\n",
    "\n",
    "class LogisticRegression(nn.Module):\n",
    "    \n",
    "    def __init__(self,n_input_features):\n",
    "        super(LogisticRegression,self).__init__()\n",
    "        self.linear=nn.Linear(n_input_features,1)\n",
    "    def forward(self,x):\n",
    "        y_pred=torch.sigmoid(self.linear(x))\n",
    "        return y_pred\n",
    "    \n",
    "model=LogisticRegression(n_features)\n",
    "\n",
    "lr=0.01\n",
    "criterion= nn.BCELoss()\n",
    "optimizer=torch.optim.SGD(model.parameters(),lr=lr)\n",
    "\n",
    "epochs=100\n",
    "\n",
    "for e in range(epochs):\n",
    "    \n",
    "    #forward pass and loss\n",
    "    y_pred=model(X_train)\n",
    "    loss=criterion(y_pred,y_train)\n",
    "    \n",
    "    #backward pass\n",
    "    loss.backward()\n",
    "    \n",
    "    #updates\n",
    "    optimizer.step()\n",
    "    \n",
    "    #zero gradients\n",
    "    optimizer.zero_grad()\n",
    "    \n",
    "    if e%10 ==0:\n",
    "        print(f'epoch {e+1} , loss {loss.item():.4f}')\n",
    "        \n",
    "with torch.no_grad():\n",
    "    y_pred=model(X_test)\n",
    "    y_pred_class=y_pred.round()\n",
    "    \n",
    "    acc=y_pred_class.eq(y_test).sum()/ float(y_test.shape[0])\n",
    "    print(f'accuracy = {acc:.4f}')\n",
    "    "
   ]
  },
  {
   "cell_type": "code",
   "execution_count": null,
   "id": "5f63a13a",
   "metadata": {},
   "outputs": [],
   "source": []
  },
  {
   "cell_type": "markdown",
   "id": "08e0834b",
   "metadata": {},
   "source": [
    "# Dataset and DataLoader Batch training "
   ]
  },
  {
   "cell_type": "code",
   "execution_count": 16,
   "id": "e4e5db34",
   "metadata": {},
   "outputs": [],
   "source": [
    "import torch \n",
    "import torchvision\n",
    "from torch.utils.data import Dataset,DataLoader\n",
    "import numpy as np\n",
    "import math"
   ]
  },
  {
   "cell_type": "code",
   "execution_count": 33,
   "id": "42541195",
   "metadata": {},
   "outputs": [
    {
     "name": "stdout",
     "output_type": "stream",
     "text": [
      "Epoch: 1/2, Step 5/45| Inputs torch.Size([4, 13]) | Labels torch.Size([4, 1])\n",
      "Epoch: 1/2, Step 10/45| Inputs torch.Size([4, 13]) | Labels torch.Size([4, 1])\n",
      "Epoch: 1/2, Step 15/45| Inputs torch.Size([4, 13]) | Labels torch.Size([4, 1])\n",
      "Epoch: 1/2, Step 20/45| Inputs torch.Size([4, 13]) | Labels torch.Size([4, 1])\n",
      "Epoch: 1/2, Step 25/45| Inputs torch.Size([4, 13]) | Labels torch.Size([4, 1])\n",
      "Epoch: 1/2, Step 30/45| Inputs torch.Size([4, 13]) | Labels torch.Size([4, 1])\n",
      "Epoch: 1/2, Step 35/45| Inputs torch.Size([4, 13]) | Labels torch.Size([4, 1])\n",
      "Epoch: 1/2, Step 40/45| Inputs torch.Size([4, 13]) | Labels torch.Size([4, 1])\n",
      "Epoch: 1/2, Step 45/45| Inputs torch.Size([2, 13]) | Labels torch.Size([2, 1])\n",
      "Epoch: 2/2, Step 5/45| Inputs torch.Size([4, 13]) | Labels torch.Size([4, 1])\n",
      "Epoch: 2/2, Step 10/45| Inputs torch.Size([4, 13]) | Labels torch.Size([4, 1])\n",
      "Epoch: 2/2, Step 15/45| Inputs torch.Size([4, 13]) | Labels torch.Size([4, 1])\n",
      "Epoch: 2/2, Step 20/45| Inputs torch.Size([4, 13]) | Labels torch.Size([4, 1])\n",
      "Epoch: 2/2, Step 25/45| Inputs torch.Size([4, 13]) | Labels torch.Size([4, 1])\n",
      "Epoch: 2/2, Step 30/45| Inputs torch.Size([4, 13]) | Labels torch.Size([4, 1])\n",
      "Epoch: 2/2, Step 35/45| Inputs torch.Size([4, 13]) | Labels torch.Size([4, 1])\n",
      "Epoch: 2/2, Step 40/45| Inputs torch.Size([4, 13]) | Labels torch.Size([4, 1])\n",
      "Epoch: 2/2, Step 45/45| Inputs torch.Size([2, 13]) | Labels torch.Size([2, 1])\n"
     ]
    }
   ],
   "source": [
    "class WineDataset(Dataset):\n",
    "    def __init__(self):\n",
    "        #data loader\n",
    "        xy=np.loadtxt('./wine.csv',delimiter=',',dtype=np.float32,skiprows=1)\n",
    "        self.x=torch.from_numpy(xy[:,1:])\n",
    "        self.y=torch.from_numpy(xy[:,[0]])  #in modo che lo shape sia n_samples,1\n",
    "        self.n_samples=xy.shape[0]\n",
    "        \n",
    "        # es\n",
    "        # a=np.array([[1,2,3],[4,5,6],[7,8,9]])\n",
    "        # a[:,[0]]\n",
    "        # array([[1],\n",
    "        #       [4],\n",
    "        #       [7]])\n",
    "        \n",
    "          \n",
    "    def __getitem__(self,index):\n",
    "        return self.x[index],self.y[index]\n",
    "        \n",
    "    def __len__(self):\n",
    "        return self.n_samples\n",
    "        \n",
    "# create dataset\n",
    "dataset=WineDataset()\n",
    "\n",
    "first_data=dataset[0]\n",
    "features, label=first_data\n",
    "#print(features, labels)\n",
    "\n",
    "# Load whole dataset with DataLoader\n",
    "# shuffle: shuffle data, good for training\n",
    "dataloader=DataLoader(dataset=dataset,batch_size=4,shuffle=True)\n",
    "\n",
    "# convert to an iterator and look at one random sample\n",
    "dataiter=iter(dataloader)\n",
    "data=dataiter.next()\n",
    "features,labels=data\n",
    "#print(features, labels)\n",
    "\n",
    "\n",
    "#training loop\n",
    "num_epochs=2\n",
    "total_samples=len(dataset)\n",
    "n_iterations=math.ceil(total_samples/4)\n",
    "\n",
    "\n",
    "for e in range(num_epochs):\n",
    "    for i, (inputs,labels) in enumerate(dataloader):\n",
    "        # here: 178 samples, batch_size = 4, n_iters=178/4=44.5 -> 45 iterations\n",
    "        # Run your training process\n",
    "        if (i+1) % 5 == 0:\n",
    "            print(f'Epoch: {e+1}/{num_epochs}, Step {i+1}/{n_iterations}| Inputs {inputs.shape} | Labels {labels.shape}')\n",
    "\n"
   ]
  },
  {
   "cell_type": "code",
   "execution_count": 34,
   "id": "2534ae0d",
   "metadata": {},
   "outputs": [
    {
     "name": "stdout",
     "output_type": "stream",
     "text": [
      "Downloading http://yann.lecun.com/exdb/mnist/train-images-idx3-ubyte.gz\n",
      "Downloading http://yann.lecun.com/exdb/mnist/train-images-idx3-ubyte.gz to ./data\\MNIST\\raw\\train-images-idx3-ubyte.gz\n"
     ]
    },
    {
     "data": {
      "application/vnd.jupyter.widget-view+json": {
       "model_id": "1e75542246654f08973d54526c03fbcb",
       "version_major": 2,
       "version_minor": 0
      },
      "text/plain": [
       "  0%|          | 0/9912422 [00:00<?, ?it/s]"
      ]
     },
     "metadata": {},
     "output_type": "display_data"
    },
    {
     "name": "stdout",
     "output_type": "stream",
     "text": [
      "Extracting ./data\\MNIST\\raw\\train-images-idx3-ubyte.gz to ./data\\MNIST\\raw\n",
      "\n",
      "Downloading http://yann.lecun.com/exdb/mnist/train-labels-idx1-ubyte.gz\n",
      "Downloading http://yann.lecun.com/exdb/mnist/train-labels-idx1-ubyte.gz to ./data\\MNIST\\raw\\train-labels-idx1-ubyte.gz\n"
     ]
    },
    {
     "data": {
      "application/vnd.jupyter.widget-view+json": {
       "model_id": "ab752964aebd44c9881bfbbdd6062d94",
       "version_major": 2,
       "version_minor": 0
      },
      "text/plain": [
       "  0%|          | 0/28881 [00:00<?, ?it/s]"
      ]
     },
     "metadata": {},
     "output_type": "display_data"
    },
    {
     "name": "stdout",
     "output_type": "stream",
     "text": [
      "Extracting ./data\\MNIST\\raw\\train-labels-idx1-ubyte.gz to ./data\\MNIST\\raw\n",
      "\n",
      "Downloading http://yann.lecun.com/exdb/mnist/t10k-images-idx3-ubyte.gz\n",
      "Downloading http://yann.lecun.com/exdb/mnist/t10k-images-idx3-ubyte.gz to ./data\\MNIST\\raw\\t10k-images-idx3-ubyte.gz\n"
     ]
    },
    {
     "data": {
      "application/vnd.jupyter.widget-view+json": {
       "model_id": "d6cabb753c9e4ea9b9c554971320e7f7",
       "version_major": 2,
       "version_minor": 0
      },
      "text/plain": [
       "  0%|          | 0/1648877 [00:00<?, ?it/s]"
      ]
     },
     "metadata": {},
     "output_type": "display_data"
    },
    {
     "name": "stdout",
     "output_type": "stream",
     "text": [
      "Extracting ./data\\MNIST\\raw\\t10k-images-idx3-ubyte.gz to ./data\\MNIST\\raw\n",
      "\n",
      "Downloading http://yann.lecun.com/exdb/mnist/t10k-labels-idx1-ubyte.gz\n",
      "Downloading http://yann.lecun.com/exdb/mnist/t10k-labels-idx1-ubyte.gz to ./data\\MNIST\\raw\\t10k-labels-idx1-ubyte.gz\n"
     ]
    },
    {
     "data": {
      "application/vnd.jupyter.widget-view+json": {
       "model_id": "6ece327bc7cc4aa68ff6edc3b0a0ebe2",
       "version_major": 2,
       "version_minor": 0
      },
      "text/plain": [
       "  0%|          | 0/4542 [00:00<?, ?it/s]"
      ]
     },
     "metadata": {},
     "output_type": "display_data"
    },
    {
     "name": "stdout",
     "output_type": "stream",
     "text": [
      "Extracting ./data\\MNIST\\raw\\t10k-labels-idx1-ubyte.gz to ./data\\MNIST\\raw\n",
      "\n",
      "torch.Size([3, 1, 28, 28]) torch.Size([3])\n"
     ]
    }
   ],
   "source": [
    "# some famous datasets are available in torchvision.datasets\n",
    "# e.g. MNIST, Fashion-MNIST, CIFAR10, COCO\n",
    "\n",
    "train_dataset = torchvision.datasets.MNIST(root='./data', \n",
    "                                           train=True, \n",
    "                                           transform=torchvision.transforms.ToTensor(),  \n",
    "                                           download=True)\n",
    "\n",
    "train_loader = DataLoader(dataset=train_dataset, \n",
    "                                           batch_size=3, \n",
    "                                           shuffle=True)\n",
    "\n",
    "# look at one random sample\n",
    "dataiter = iter(train_loader)\n",
    "data = dataiter.next()\n",
    "inputs, targets = data\n",
    "print(inputs.shape, targets.shape)"
   ]
  },
  {
   "cell_type": "markdown",
   "id": "2bc841bb",
   "metadata": {},
   "source": [
    "# Dataset Transforms"
   ]
  },
  {
   "cell_type": "code",
   "execution_count": 43,
   "id": "d829bcab",
   "metadata": {},
   "outputs": [
    {
     "name": "stdout",
     "output_type": "stream",
     "text": [
      "[1.423e+01 1.710e+00 2.430e+00 1.560e+01 1.270e+02 2.800e+00 3.060e+00\n",
      " 2.800e-01 2.290e+00 5.640e+00 1.040e+00 3.920e+00 1.065e+03]\n",
      "<class 'numpy.ndarray'> <class 'numpy.ndarray'>\n",
      "tensor([2.8460e+01, 3.4200e+00, 4.8600e+00, 3.1200e+01, 2.5400e+02, 5.6000e+00,\n",
      "        6.1200e+00, 5.6000e-01, 4.5800e+00, 1.1280e+01, 2.0800e+00, 7.8400e+00,\n",
      "        2.1300e+03])\n",
      "<class 'torch.Tensor'> <class 'torch.Tensor'>\n"
     ]
    }
   ],
   "source": [
    "import torch \n",
    "import torchvision\n",
    "from torch.utils.data import Dataset,DataLoader\n",
    "import numpy as np\n",
    "import math\n",
    "\n",
    "class WineDataset(Dataset):\n",
    "    \n",
    "    def __init__(self,transform=None):\n",
    "        #data loader\n",
    "        xy=np.loadtxt('./wine.csv',delimiter=',',dtype=np.float32,skiprows=1)\n",
    "        \n",
    "        self.x=xy[:,1:]\n",
    "        self.y=xy[:,[0]] \n",
    "        self.n_samples=xy.shape[0]\n",
    "        \n",
    "        self.transform=transform\n",
    "        \n",
    "        # es\n",
    "        # a=np.array([[1,2,3],[4,5,6],[7,8,9]])\n",
    "        # a[:,[0]]\n",
    "        # array([[1],\n",
    "        #       [4],\n",
    "        #       [7]])\n",
    "        \n",
    "          \n",
    "    def __getitem__(self,index):\n",
    "        sample= self.x[index],self.y[index]\n",
    "        \n",
    "        if self.transform:\n",
    "            sample=self.transform(sample)\n",
    "        \n",
    "        return sample\n",
    "    \n",
    "    def __len__(self):\n",
    "        return self.n_samples\n",
    "    \n",
    "class ToTensor:\n",
    "    \n",
    "    def __call__(self,sample):\n",
    "        inputs,targets =sample\n",
    "        return torch.from_numpy(inputs),torch.from_numpy(targets)\n",
    "\n",
    "    \n",
    "class MulTransform:\n",
    "    \n",
    "    def __init__(self,factor):\n",
    "        self.factor=factor\n",
    "        \n",
    "    def __call__(self,sample):\n",
    "        inputs,targets =sample\n",
    "        inputs*=self.factor\n",
    "        return inputs,targets\n",
    "\n",
    "#dataset=WineDataset(transform=ToTensor())\n",
    "dataset=WineDataset(transform=None)\n",
    "\n",
    "first_data=dataset[0]\n",
    "features,labels=first_data\n",
    "print(features)\n",
    "print(type(features),type(labels))\n",
    "\n",
    "\n",
    "composed=torchvision.transforms.Compose([ToTensor(),MulTransform(2)])\n",
    "dataset=WineDataset(transform=composed)\n",
    "first_data=dataset[0]\n",
    "features,labels=first_data\n",
    "print(features)\n",
    "print(type(features),type(labels))"
   ]
  },
  {
   "cell_type": "markdown",
   "id": "448827e9",
   "metadata": {},
   "source": [
    "# Softmax and Cross Entropy"
   ]
  },
  {
   "cell_type": "code",
   "execution_count": 47,
   "id": "45b36672",
   "metadata": {},
   "outputs": [
    {
     "name": "stdout",
     "output_type": "stream",
     "text": [
      "[0.65900114 0.24243297 0.09856589]\n",
      "tensor([0.6590, 0.2424, 0.0986])\n"
     ]
    }
   ],
   "source": [
    "import torch \n",
    "import torch.nn as nn\n",
    "import numpy as np\n",
    "\n",
    "#numpy\n",
    "def softmax(x):\n",
    "    return np.exp(x) / np.sum(np.exp(x),axis=0)\n",
    "\n",
    "x=np.array([2,1,0.1])\n",
    "outputs=softmax(x)\n",
    "print(outputs)\n",
    "\n",
    "#pytorch\n",
    "x=torch.tensor([2.0,1.0,0.1])\n",
    "outputs=torch.softmax(x,dim=0)\n",
    "print(outputs)"
   ]
  },
  {
   "cell_type": "code",
   "execution_count": 55,
   "id": "2b412820",
   "metadata": {},
   "outputs": [
    {
     "name": "stdout",
     "output_type": "stream",
     "text": [
      "Loss 1 numpy 0.3567\n",
      "Loss 1 numpy 2.3026\n",
      "Loss 1 numpy 0.4170\n",
      "Loss 1 numpy 1.8406\n",
      "Actual class: 0, Y_pred1: 0, Y_pred2: 1\n",
      "Batch Loss1:  0.2834\n",
      "Batch Loss2: 1.6418\n",
      "Actual class: tensor([2, 0, 1]), Y_pred1: tensor([2, 0, 1]), Y_pred2: tensor([0, 2, 0])\n"
     ]
    }
   ],
   "source": [
    "def cross_entropy(actual,predicted):\n",
    "    loss=-np.sum(actual*np.log(predicted))\n",
    "    return loss\n",
    "\n",
    "Y=np.array([1,0,0])\n",
    "\n",
    "y_pred_good=np.array([0.7,0.2,0.1])\n",
    "y_pred_bad=np.array([0.1,0.3,0.6])\n",
    "l1=cross_entropy(Y,y_pred_good)\n",
    "l2=cross_entropy(Y,y_pred_bad)\n",
    "print(f'Loss 1 numpy {l1:.4f}')\n",
    "print(f'Loss 1 numpy {l2:.4f}')\n",
    "\n",
    "\n",
    "# cross entropy or log loss in pytorch\n",
    "# nn.CrossEntropyLoss = nn.LogSoftmax + nn.NLLLoss\n",
    "# non dobbiamo mettere il softmax nell'ultimo layer\n",
    "#Y deve contenere solo i labels delle classi, non devono essere one hot vector\n",
    "#Y_pred deve avere raw scores(logits), quindi senza softmax\n",
    "\n",
    "loss=nn.CrossEntropyLoss()\n",
    "\n",
    "Y=torch.tensor([0])\n",
    "Y_pred_good=torch.tensor([[2.0,1.0,0.1]])\n",
    "Y_pred_bad=torch.tensor([[0.5,2.0,0.3]])\n",
    "\n",
    "l1=loss(Y_pred_good,Y)\n",
    "l2=loss(Y_pred_bad,Y)\n",
    "print(f'Loss 1 numpy {l1:.4f}')\n",
    "print(f'Loss 1 numpy {l2:.4f}')\n",
    "\n",
    "_,predictions1=torch.max(Y_pred_good,1)\n",
    "_,predictions2=torch.max(Y_pred_bad,1)\n",
    "print(f'Actual class: {Y.item()}, Y_pred1: {predictions1.item()}, Y_pred2: {predictions2.item()}')\n",
    "\n",
    "#with 3 values\n",
    "Y = torch.tensor([2, 0, 1])\n",
    "\n",
    "Y_pred_good = torch.tensor(\n",
    "    [[0.1, 0.2, 3.9], # predict class 2\n",
    "    [1.2, 0.1, 0.3], # predict class 0\n",
    "    [0.3, 2.2, 0.2]]) # predict class 1\n",
    "\n",
    "Y_pred_bad = torch.tensor(\n",
    "    [[0.9, 0.2, 0.1],\n",
    "    [0.1, 0.3, 1.5],\n",
    "    [1.2, 0.2, 0.5]])\n",
    "\n",
    "l1 = loss(Y_pred_good, Y)\n",
    "l2 = loss(Y_pred_bad, Y)\n",
    "print(f'Batch Loss1:  {l1.item():.4f}')\n",
    "print(f'Batch Loss2: {l2.item():.4f}')\n",
    "\n",
    "# get predictions\n",
    "_, predictions1 = torch.max(Y_pred_good, 1)\n",
    "_, predictions2 = torch.max(Y_pred_bad, 1)\n",
    "print(f'Actual class: {Y}, Y_pred1: {predictions1}, Y_pred2: {predictions2}')"
   ]
  },
  {
   "cell_type": "code",
   "execution_count": null,
   "id": "291867b1",
   "metadata": {},
   "outputs": [],
   "source": [
    "# multiclass classification cross entropy loss --> non dobbiamo mettere il softmax alla fine\n",
    "# l output dell'ultimo layer ha dimensione uguale al numero delle classi\n",
    "# binary classification BCEloss --> dobbiamo mettere la sigmoide alla fine\n",
    "# l output dell'ultimo layer ha dimensione 1"
   ]
  },
  {
   "cell_type": "markdown",
   "id": "8b44cb82",
   "metadata": {},
   "source": [
    "# Activation functions"
   ]
  },
  {
   "cell_type": "code",
   "execution_count": 57,
   "id": "435d6a0d",
   "metadata": {},
   "outputs": [
    {
     "name": "stdout",
     "output_type": "stream",
     "text": [
      "tensor([0.0120, 0.0889, 0.2418, 0.6572])\n",
      "tensor([0.0120, 0.0889, 0.2418, 0.6572])\n",
      "tensor([0.2689, 0.7311, 0.8808, 0.9526])\n",
      "tensor([0.2689, 0.7311, 0.8808, 0.9526])\n",
      "tensor([-0.7616,  0.7616,  0.9640,  0.9951])\n",
      "tensor([-0.7616,  0.7616,  0.9640,  0.9951])\n",
      "tensor([0., 1., 2., 3.])\n",
      "tensor([0., 1., 2., 3.])\n",
      "tensor([-0.0100,  1.0000,  2.0000,  3.0000])\n",
      "tensor([-0.0100,  1.0000,  2.0000,  3.0000])\n"
     ]
    }
   ],
   "source": [
    "import torch.nn.functional as F\n",
    "\n",
    "x = torch.tensor([-1.0, 1.0, 2.0, 3.0])\n",
    "\n",
    "# sofmax\n",
    "output = torch.softmax(x, dim=0)\n",
    "print(output)\n",
    "sm = nn.Softmax(dim=0)\n",
    "output = sm(x)\n",
    "print(output)\n",
    "\n",
    "# sigmoid \n",
    "output = torch.sigmoid(x)\n",
    "print(output)\n",
    "s = nn.Sigmoid()\n",
    "output = s(x)\n",
    "print(output)\n",
    "\n",
    "#tanh\n",
    "output = torch.tanh(x)\n",
    "print(output)\n",
    "t = nn.Tanh()\n",
    "output = t(x)\n",
    "print(output)\n",
    "\n",
    "# relu\n",
    "output = torch.relu(x)\n",
    "print(output)\n",
    "relu = nn.ReLU()\n",
    "output = relu(x)\n",
    "print(output)\n",
    "\n",
    "# leaky relu\n",
    "output = F.leaky_relu(x)\n",
    "print(output)\n",
    "lrelu = nn.LeakyReLU()\n",
    "output = lrelu(x)\n",
    "print(output)"
   ]
  },
  {
   "cell_type": "code",
   "execution_count": 56,
   "id": "b6e0aeb4",
   "metadata": {},
   "outputs": [],
   "source": [
    "# option 1 (create nn modules)\n",
    "class NeuralNet(nn.Module):\n",
    "    def __init__(self, input_size, hidden_size):\n",
    "        super(NeuralNet, self).__init__()\n",
    "        self.linear1 = nn.Linear(input_size, hidden_size)\n",
    "        self.relu = nn.ReLU()\n",
    "        self.linear2 = nn.Linear(hidden_size, 1)\n",
    "        self.sigmoid = nn.Sigmoid()\n",
    "    \n",
    "    def forward(self, x):\n",
    "        out = self.linear1(x)\n",
    "        out = self.relu(out)\n",
    "        out = self.linear2(out)\n",
    "        out = self.sigmoid(out)\n",
    "        return out\n",
    "\n",
    "# option 2 (use activation functions directly in forward pass)\n",
    "class NeuralNet(nn.Module):\n",
    "    def __init__(self, input_size, hidden_size):\n",
    "        super(NeuralNet, self).__init__()\n",
    "        self.linear1 = nn.Linear(input_size, hidden_size)\n",
    "        self.linear2 = nn.Linear(hidden_size, 1)\n",
    "    \n",
    "    def forward(self, x):\n",
    "        out = torch.relu(self.linear1(x))\n",
    "        out = torch.sigmoid(self.linear2(out))\n",
    "        return out"
   ]
  },
  {
   "cell_type": "code",
   "execution_count": null,
   "id": "581f6fa3",
   "metadata": {},
   "outputs": [],
   "source": []
  },
  {
   "cell_type": "markdown",
   "id": "b8e09e97",
   "metadata": {},
   "source": [
    " # Feed-Forward Neural Network"
   ]
  },
  {
   "cell_type": "code",
   "execution_count": 1,
   "id": "0f982fc2",
   "metadata": {},
   "outputs": [],
   "source": [
    "import torch \n",
    "import torch.nn as nn\n",
    "import torchvision\n",
    "import torchvision.transforms as transforms\n",
    "import matplotlib.pyplot as plt\n",
    "\n",
    "#device configuration\n",
    "device=torch.device('cuda' if torch.cuda.is_available() else 'cpu')"
   ]
  },
  {
   "cell_type": "code",
   "execution_count": 25,
   "id": "f682cbed",
   "metadata": {},
   "outputs": [
    {
     "name": "stdout",
     "output_type": "stream",
     "text": [
      "torch.Size([100, 1, 28, 28]) torch.Size([100])\n"
     ]
    },
    {
     "data": {
      "image/png": "[encoded data removed]",
      "text/plain": [
       "<Figure size 432x288 with 6 Axes>"
      ]
     },
     "metadata": {
      "needs_background": "light"
     },
     "output_type": "display_data"
    }
   ],
   "source": [
    "#hyper paramters\n",
    "\n",
    "input_size=784 #28x28\n",
    "hidden_size=100\n",
    "num_classes=10\n",
    "num_epochs=2\n",
    "batch_size=100\n",
    "lr=0.001\n",
    "\n",
    "#MNIST\n",
    "train_dataset = torchvision.datasets.MNIST(root='./data',\n",
    "                                          train=True,\n",
    "                                          transform=transforms.ToTensor(),\n",
    "                                          download=True)\n",
    "test_dataset= torchvision.datasets.MNIST(root='./data',\n",
    "                                          train=False,\n",
    "                                          transform=transforms.ToTensor())\n",
    "\n",
    "train_loader=torch.utils.data.DataLoader(dataset=train_dataset,\n",
    "                                        batch_size=batch_size,\n",
    "                                        shuffle=True)\n",
    "test_loader=torch.utils.data.DataLoader(dataset=test_dataset,\n",
    "                                        batch_size=batch_size,\n",
    "                                        shuffle=False)\n",
    "\n",
    "examples=iter(train_loader)\n",
    "samples,labels=examples.next()\n",
    "print(samples.shape,labels.shape)\n",
    "\n",
    "for i in range(6):\n",
    "    plt.subplot(2,3,i+1)\n",
    "    plt.imshow(samples[i][0],cmap='gray')"
   ]
  },
  {
   "cell_type": "code",
   "execution_count": 36,
   "id": "f93adf51",
   "metadata": {},
   "outputs": [
    {
     "name": "stdout",
     "output_type": "stream",
     "text": [
      "epoch [1/2] , step [100/600], loss = 0.2953\n",
      "epoch [1/2] , step [200/600], loss = 0.2207\n",
      "epoch [1/2] , step [300/600], loss = 0.2846\n",
      "epoch [1/2] , step [400/600], loss = 0.1541\n",
      "epoch [1/2] , step [500/600], loss = 0.1556\n",
      "epoch [1/2] , step [600/600], loss = 0.1059\n",
      "epoch [2/2] , step [100/600], loss = 0.1579\n",
      "epoch [2/2] , step [200/600], loss = 0.2510\n",
      "epoch [2/2] , step [300/600], loss = 0.0818\n",
      "epoch [2/2] , step [400/600], loss = 0.0709\n",
      "epoch [2/2] , step [500/600], loss = 0.0976\n",
      "epoch [2/2] , step [600/600], loss = 0.1039\n",
      "accuracy= 97.27\n"
     ]
    }
   ],
   "source": [
    "#fully connected neural network with one hidden layer\n",
    "class NeuralNet(nn.Module):\n",
    "    \n",
    "    def __init__(self,input_size,hidden_size,num_classes):\n",
    "        super(NeuralNet,self).__init__()\n",
    "        \n",
    "        self.l1=nn.Linear(input_size,hidden_size)\n",
    "        self.relu=nn.ReLU()\n",
    "        self.l2=nn.Linear(hidden_size,num_classes)\n",
    "        \n",
    "    def forward(self,x):\n",
    "        \n",
    "        out=self.l1(x)\n",
    "        out=self.relu(out)\n",
    "        out=self.l2(out)\n",
    "        #no activation and no softmax because they are inluded in the CrossEntropyLoss\n",
    "        \n",
    "        return out\n",
    "    \n",
    "model=NeuralNet(input_size,hidden_size,num_classes).to(device)\n",
    "\n",
    "#loss and optimizer\n",
    "criterion =nn.CrossEntropyLoss()\n",
    "optimizer= torch.optim.Adam(model.parameters(),lr=lr)\n",
    "\n",
    "#training loop\n",
    "num_total_step=len(train_loader)\n",
    "for e in range(num_epochs):\n",
    "    for i, (image,labels) in enumerate(train_loader):\n",
    "        \n",
    "        # origin shape: [100, 1, 28, 28]\n",
    "        # resized: [100, 784]\n",
    "        image=image.reshape(-1,28*28).to(device)\n",
    "        labels=labels.to(device)\n",
    "        \n",
    "        #forward\n",
    "        pred=model(image)\n",
    "        loss=criterion(pred,labels)\n",
    "        \n",
    "        #backward\n",
    "        #optimizer.zero_grad()\n",
    "        loss.backward()\n",
    "        optimizer.step()\n",
    "        optimizer.zero_grad()\n",
    "        \n",
    "        if (i+1) %100 == 0:\n",
    "            print(f'epoch [{e+1}/{num_epochs}] , step [{i+1}/{num_total_step}], loss = {loss.item():.4f}')\n",
    "            \n",
    "# test\n",
    "with torch.no_grad():\n",
    "    \n",
    "    n_correct=0\n",
    "    n_samples=0 # numero di esempi nel test in questo caso è uguale a \n",
    "                # len(test_loader)*100=len(test_daatset)\n",
    "                # in generale però l'ultimo batch potrebbe essere anche più piccolo\n",
    "    \n",
    "    for images,labels in test_loader:\n",
    "        \n",
    "        images=images.reshape(-1,28*28).to(device)\n",
    "        labels=labels.to(device)\n",
    "        \n",
    "        output=model(images)\n",
    "        \n",
    "        # max returns (value ,index)\n",
    "        _,predictions=torch.max(output,1)\n",
    "        n_samples+=labels.shape[0] #aggiungiamo il numero di samples nel current batch\n",
    "        n_correct+=(predictions==labels).sum().item()\n",
    "        \n",
    "    acc=100.0 *n_correct/n_samples\n",
    "    print(f'accuracy= {acc}')\n",
    "        \n",
    "            \n",
    "        "
   ]
  },
  {
   "cell_type": "code",
   "execution_count": null,
   "id": "648503ce",
   "metadata": {},
   "outputs": [],
   "source": []
  },
  {
   "cell_type": "markdown",
   "id": "d09bcb6b",
   "metadata": {},
   "source": [
    "# Convolutional Neural Network (CNN)"
   ]
  },
  {
   "cell_type": "code",
   "execution_count": 43,
   "id": "0ae5ccd9",
   "metadata": {},
   "outputs": [
    {
     "name": "stdout",
     "output_type": "stream",
     "text": [
      "Files already downloaded and verified\n",
      "Files already downloaded and verified\n"
     ]
    }
   ],
   "source": [
    "import torch\n",
    "import torch.nn as nn\n",
    "import torch.nn.functional as F\n",
    "import torchvision\n",
    "import torchvision.transforms as transforms\n",
    "import matplotlib.pyplot as plt\n",
    "import numpy as np\n",
    "\n",
    "#device configuration\n",
    "device=torch.device('cuda' if torch.cuda.is_available() else 'cpu')\n",
    "\n",
    "\n",
    "#hyper paramters\n",
    "num_epochs=4\n",
    "batch_size=4\n",
    "lr=0.001\n",
    "\n",
    "\n",
    "transform=transforms.Compose(\n",
    "             [transforms.ToTensor(),\n",
    "             transforms.Normalize((0.5,0.5,0.5),(0.5,0.5,0.5))]) \n",
    "            # il primo parametro è una lista di means per ogni channel\n",
    "            # il secondo parametro è una lista di standard deviations for each channel\n",
    "\n",
    "#MNIST\n",
    "train_dataset = torchvision.datasets.CIFAR10(root='./data',\n",
    "                                          train=True,\n",
    "                                          transform=transform,\n",
    "                                          download=True)\n",
    "test_dataset= torchvision.datasets.CIFAR10(root='./data',\n",
    "                                          train=False,\n",
    "                                          transform=transform,\n",
    "                                          download=True)\n",
    "\n",
    "train_loader=torch.utils.data.DataLoader(dataset=train_dataset,\n",
    "                                        batch_size=batch_size,\n",
    "                                        shuffle=True)\n",
    "\n",
    "test_loader=torch.utils.data.DataLoader(dataset=test_dataset,\n",
    "                                        batch_size=batch_size,\n",
    "                                        shuffle=False)\n"
   ]
  },
  {
   "cell_type": "code",
   "execution_count": 44,
   "id": "79aaa416",
   "metadata": {},
   "outputs": [
    {
     "data": {
      "image/png": "[encoded data removed]",
      "text/plain": [
       "<Figure size 432x288 with 1 Axes>"
      ]
     },
     "metadata": {
      "needs_background": "light"
     },
     "output_type": "display_data"
    }
   ],
   "source": [
    "def imshow(img):\n",
    "    img = img / 2 + 0.5  # unnormalize\n",
    "    npimg = img.numpy()\n",
    "    plt.imshow(np.transpose(npimg, (1, 2, 0)))\n",
    "    plt.show()\n",
    "\n",
    "\n",
    "# get some random training images\n",
    "dataiter = iter(train_loader)\n",
    "images, labels = dataiter.next()\n",
    "\n",
    "# show images\n",
    "imshow(torchvision.utils.make_grid(images))"
   ]
  },
  {
   "cell_type": "code",
   "execution_count": null,
   "id": "264afa8f",
   "metadata": {},
   "outputs": [],
   "source": [
    "classes=('plane', 'car', 'bird', 'cat',\n",
    "           'deer', 'dog', 'frog', 'horse', 'ship', 'truck')\n",
    "\n",
    "class ConvNet(nn.Module):\n",
    "    def __init__(self):\n",
    "        super().__init__()\n",
    "        #dimension of the image after convolution\n",
    "        # (initial_width - filter_size +2*padding)/stride +1 \n",
    "                                      # size [4,3,32,32]\n",
    "        self.conv1=nn.Conv2d(3,6,5)   # size [4,6,28,28]\n",
    "        self.pool=nn.MaxPool2d(2,2)   # size [4,6,14,14]\n",
    "        self.conv2=nn.Conv2d(6,16,5)  # size [4,16,10,10]\n",
    "        self.fc1=nn.Linear(16*5*5,120) # after one other pooling layer size [4,16,5,5]\n",
    "        self.fc2=nn.Linear(120,84)\n",
    "        self.fc3=nn.Linear(84,10)\n",
    "        \n",
    "    def forward(self,x):\n",
    "        x=self.pool(F.relu(self.conv1(x)))\n",
    "        x=self.pool(F.relu(self.conv2(x)))\n",
    "        x=x.view(-1,16*5*5)\n",
    "        x=F.relu(self.fc1(x))\n",
    "        x=F.relu(self.fc2(x))\n",
    "        x=self.fc3(x)\n",
    "        return x\n",
    "        \n",
    "    \n",
    "model=ConvNet().to(device)\n",
    "\n",
    "#loss and optimizer\n",
    "criterion =nn.CrossEntropyLoss()\n",
    "optimizer= torch.optim.SGD(model.parameters(),lr=lr)\n",
    "\n",
    "#training loop\n",
    "num_total_step=len(train_loader)\n",
    "for e in range(num_epochs):\n",
    "    for i, (image,labels) in enumerate(train_loader):\n",
    "        \n",
    "        # origin shape: [4, 3, 32, 32] \n",
    "        # batch size = 4\n",
    "        # number of channels = 3\n",
    "        # image dimension = 32x32\n",
    "        \n",
    "        image=image.to(device)\n",
    "        labels=labels.to(device)\n",
    "        \n",
    "        #forward\n",
    "        pred=model(image)\n",
    "        loss=criterion(pred,labels)\n",
    "        \n",
    "        #backward\n",
    "        #optimizer.zero_grad()\n",
    "        loss.backward()\n",
    "        optimizer.step()\n",
    "        optimizer.zero_grad()\n",
    "        \n",
    "        if (i+1) %2000 == 0:\n",
    "            print(f'epoch [{e+1}/{num_epochs}] , step [{i+1}/{num_total_step}], loss = {loss.item():.4f}')\n",
    "    \n",
    "print('Finished Training')"
   ]
  },
  {
   "cell_type": "code",
   "execution_count": 45,
   "id": "3ac6d7a1",
   "metadata": {},
   "outputs": [
    {
     "name": "stdout",
     "output_type": "stream",
     "text": [
      "accuracy= 46.22\n",
      "accuracy of plane : 56.2\n",
      "accuracy of car : 54.5\n",
      "accuracy of bird : 42.0\n",
      "accuracy of cat : 24.0\n",
      "accuracy of deer : 39.2\n",
      "accuracy of dog : 41.4\n",
      "accuracy of frog : 56.3\n",
      "accuracy of horse : 52.9\n",
      "accuracy of ship : 53.4\n",
      "accuracy of truck : 42.3\n"
     ]
    }
   ],
   "source": [
    "with torch.no_grad():\n",
    "    n_correct=0\n",
    "    n_samples=0\n",
    "    n_class_correct=[0 for i in range(10)]\n",
    "    n_class_samples=[0 for i in range(10)]\n",
    "    \n",
    "    for images,labels in test_loader:\n",
    "        \n",
    "        images=images.to(device)\n",
    "        labels=labels.to(device)\n",
    "        \n",
    "        output=model(images)\n",
    "        \n",
    "        # max returns (value ,index)\n",
    "        _,predictions=torch.max(output,1)\n",
    "        n_samples+=labels.shape[0]\n",
    "        n_correct+=(predictions==labels).sum().item()\n",
    "        \n",
    "        for i in range(batch_size):\n",
    "            label=labels[i]\n",
    "            pred=predictions[i]\n",
    "            if pred==label:\n",
    "                n_class_correct[label]+=1\n",
    "            n_class_samples[label]+=1\n",
    "            \n",
    "    acc=100.0 *n_correct/n_samples\n",
    "    print(f'accuracy= {acc}')\n",
    "    \n",
    "    for i in range(10):\n",
    "        acc=100.0*n_class_correct[i]/n_class_samples[i]\n",
    "        print(f'accuracy of {classes[i]} : {acc}')\n",
    "    "
   ]
  },
  {
   "cell_type": "markdown",
   "id": "eca9add9",
   "metadata": {},
   "source": [
    "# Transfer Learning "
   ]
  },
  {
   "cell_type": "code",
   "execution_count": 1,
   "id": "ec28ce4b",
   "metadata": {},
   "outputs": [
    {
     "name": "stdout",
     "output_type": "stream",
     "text": [
      "['ants', 'bees']\n"
     ]
    },
    {
     "data": {
      "image/png": "[encoded data removed]",
      "text/plain": [
       "<Figure size 432x288 with 1 Axes>"
      ]
     },
     "metadata": {
      "needs_background": "light"
     },
     "output_type": "display_data"
    }
   ],
   "source": [
    "import torch\n",
    "import torch.nn as nn\n",
    "import torch.optim as optim\n",
    "from torch.optim import lr_scheduler\n",
    "import numpy as np\n",
    "import torchvision\n",
    "from torchvision import datasets, models, transforms\n",
    "import matplotlib.pyplot as plt\n",
    "import time\n",
    "import os\n",
    "import copy\n",
    "\n",
    "mean = np.array([0.5, 0.5, 0.5])\n",
    "std = np.array([0.25, 0.25, 0.25])\n",
    "\n",
    "data_transforms = {\n",
    "    'train': transforms.Compose([\n",
    "        transforms.RandomResizedCrop(224),\n",
    "        transforms.RandomHorizontalFlip(),\n",
    "        transforms.ToTensor(),\n",
    "        transforms.Normalize(mean, std)\n",
    "    ]),\n",
    "    'val': transforms.Compose([\n",
    "        transforms.Resize(256),\n",
    "        transforms.CenterCrop(224),\n",
    "        transforms.ToTensor(),\n",
    "        transforms.Normalize(mean, std)\n",
    "    ]),\n",
    "}\n",
    "\n",
    "data_dir = 'data/hymenoptera_data'\n",
    "image_datasets = {x: datasets.ImageFolder(os.path.join(data_dir, x),\n",
    "                                          data_transforms[x])\n",
    "                  for x in ['train', 'val']}\n",
    "dataloaders = {x: torch.utils.data.DataLoader(image_datasets[x], batch_size=4,\n",
    "                                             shuffle=True, num_workers=0)\n",
    "              for x in ['train', 'val']}\n",
    "dataset_sizes = {x: len(image_datasets[x]) for x in ['train', 'val']}\n",
    "class_names = image_datasets['train'].classes\n",
    "\n",
    "device = torch.device(\"cuda:0\" if torch.cuda.is_available() else \"cpu\")\n",
    "print(class_names)\n",
    "\n",
    "\n",
    "def imshow(inp, title):\n",
    "    \"\"\"Imshow for Tensor.\"\"\"\n",
    "    inp = inp.numpy().transpose((1, 2, 0))\n",
    "    inp = std * inp + mean\n",
    "    inp = np.clip(inp, 0, 1)\n",
    "    plt.imshow(inp)\n",
    "    plt.title(title)\n",
    "    plt.show()\n",
    "\n",
    "\n",
    "# Get a batch of training data\n",
    "inputs, classes = next(iter(dataloaders['train']))\n",
    "\n",
    "# Make a grid from batch\n",
    "out = torchvision.utils.make_grid(inputs)\n",
    "\n",
    "imshow(out, title=[class_names[x] for x in classes])\n"
   ]
  },
  {
   "cell_type": "code",
   "execution_count": 2,
   "id": "21de449e",
   "metadata": {},
   "outputs": [],
   "source": [
    "def train_model(model, criterion, optimizer, scheduler, num_epochs=25):\n",
    "    since = time.time()\n",
    "\n",
    "    best_model_wts = copy.deepcopy(model.state_dict())\n",
    "    best_acc = 0.0\n",
    "\n",
    "    for epoch in range(num_epochs):\n",
    "        print('Epoch {}/{}'.format(epoch, num_epochs - 1))\n",
    "        print('-' * 10)\n",
    "\n",
    "        # Each epoch has a training and validation phase\n",
    "        for phase in ['train', 'val']:\n",
    "            if phase == 'train':\n",
    "                model.train()  # Set model to training mode\n",
    "            else:\n",
    "                model.eval()   # Set model to evaluate mode\n",
    "\n",
    "            running_loss = 0.0\n",
    "            running_corrects = 0\n",
    "\n",
    "            # Iterate over data.\n",
    "            for inputs, labels in dataloaders[phase]:\n",
    "                inputs = inputs.to(device)\n",
    "                labels = labels.to(device)\n",
    "\n",
    "                # forward\n",
    "                # track history if only in train\n",
    "                with torch.set_grad_enabled(phase == 'train'):\n",
    "                    outputs = model(inputs)\n",
    "                    _, preds = torch.max(outputs, 1)\n",
    "                    loss = criterion(outputs, labels)\n",
    "\n",
    "                    # backward + optimize only if in training phase\n",
    "                    if phase == 'train':\n",
    "                        optimizer.zero_grad()\n",
    "                        loss.backward()\n",
    "                        optimizer.step()\n",
    "\n",
    "                # statistics\n",
    "                running_loss += loss.item() * inputs.size(0)\n",
    "                running_corrects += torch.sum(preds == labels.data)\n",
    "\n",
    "            if phase == 'train':\n",
    "                scheduler.step()\n",
    "\n",
    "            epoch_loss = running_loss / dataset_sizes[phase]\n",
    "            epoch_acc = running_corrects.double() / dataset_sizes[phase]\n",
    "\n",
    "            print('{} Loss: {:.4f} Acc: {:.4f}'.format(\n",
    "                phase, epoch_loss, epoch_acc))\n",
    "\n",
    "            # deep copy the model\n",
    "            if phase == 'val' and epoch_acc > best_acc:\n",
    "                best_acc = epoch_acc\n",
    "                best_model_wts = copy.deepcopy(model.state_dict())\n",
    "\n",
    "        print()\n",
    "\n",
    "    time_elapsed = time.time() - since\n",
    "    print('Training complete in {:.0f}m {:.0f}s'.format(\n",
    "        time_elapsed // 60, time_elapsed % 60))\n",
    "    print('Best val Acc: {:4f}'.format(best_acc))\n",
    "\n",
    "    # load best model weights\n",
    "    model.load_state_dict(best_model_wts)\n",
    "    return model\n"
   ]
  },
  {
   "cell_type": "code",
   "execution_count": 3,
   "id": "1f9eeee7",
   "metadata": {},
   "outputs": [
    {
     "name": "stderr",
     "output_type": "stream",
     "text": [
      "Downloading: \"https://download.pytorch.org/models/resnet18-f37072fd.pth\" to C:\\Users\\calni/.cache\\torch\\hub\\checkpoints\\resnet18-f37072fd.pth\n"
     ]
    },
    {
     "data": {
      "application/vnd.jupyter.widget-view+json": {
       "model_id": "ac76fda471fd4df2937b139c10207532",
       "version_major": 2,
       "version_minor": 0
      },
      "text/plain": [
       "  0%|          | 0.00/44.7M [00:00<?, ?B/s]"
      ]
     },
     "metadata": {},
     "output_type": "display_data"
    },
    {
     "name": "stdout",
     "output_type": "stream",
     "text": [
      "Epoch 0/1\n",
      "----------\n",
      "train Loss: 0.6251 Acc: 0.6393\n",
      "val Loss: 0.4432 Acc: 0.8170\n",
      "\n",
      "Epoch 1/1\n",
      "----------\n",
      "train Loss: 0.4930 Acc: 0.7787\n",
      "val Loss: 0.3119 Acc: 0.9085\n",
      "\n",
      "Training complete in 0m 42s\n",
      "Best val Acc: 0.908497\n",
      "Epoch 0/1\n",
      "----------\n",
      "train Loss: 0.5386 Acc: 0.7295\n",
      "val Loss: 0.2265 Acc: 0.9281\n",
      "\n",
      "Epoch 1/1\n",
      "----------\n",
      "train Loss: 0.4313 Acc: 0.7992\n",
      "val Loss: 0.1833 Acc: 0.9412\n",
      "\n",
      "Training complete in 0m 21s\n",
      "Best val Acc: 0.941176\n"
     ]
    }
   ],
   "source": [
    "#### Finetuning the convnet ####\n",
    "# Load a pretrained model and reset final fully connected layer.\n",
    "\n",
    "model = models.resnet18(pretrained=True)\n",
    "num_ftrs = model.fc.in_features\n",
    "# Here the size of each output sample is set to 2.\n",
    "# Alternatively, it can be generalized to nn.Linear(num_ftrs, len(class_names)).\n",
    "model.fc = nn.Linear(num_ftrs, 2)\n",
    "\n",
    "model = model.to(device)\n",
    "\n",
    "criterion = nn.CrossEntropyLoss()\n",
    "\n",
    "# Observe that all parameters are being optimized\n",
    "optimizer = optim.SGD(model.parameters(), lr=0.001)\n",
    "\n",
    "# StepLR Decays the learning rate of each parameter group by gamma every step_size epochs\n",
    "# Decay LR by a factor of 0.1 every 7 epochs\n",
    "# Learning rate scheduling should be applied after optimizer’s update\n",
    "# e.g., you should write your code this way:\n",
    "# for epoch in range(100):\n",
    "#     train(...)\n",
    "#     validate(...)\n",
    "#     scheduler.step()\n",
    "\n",
    "step_lr_scheduler = lr_scheduler.StepLR(optimizer, step_size=7, gamma=0.1)\n",
    "\n",
    "model = train_model(model, criterion, optimizer, step_lr_scheduler, num_epochs=2)\n",
    "\n",
    "\n",
    "#### ConvNet as fixed feature extractor ####\n",
    "# Here, we need to freeze all the network except the final layer.\n",
    "# We need to set requires_grad == False to freeze the parameters so that the gradients are not computed in backward()\n",
    "model_conv = torchvision.models.resnet18(pretrained=True)\n",
    "for param in model_conv.parameters():\n",
    "    param.requires_grad = False\n",
    "\n",
    "# Parameters of newly constructed modules have requires_grad=True by default\n",
    "num_ftrs = model_conv.fc.in_features\n",
    "model_conv.fc = nn.Linear(num_ftrs, 2)\n",
    "\n",
    "model_conv = model_conv.to(device)\n",
    "\n",
    "criterion = nn.CrossEntropyLoss()\n",
    "\n",
    "# Observe that only parameters of final layer are being optimized as\n",
    "# opposed to before.\n",
    "optimizer_conv = optim.SGD(model_conv.fc.parameters(), lr=0.001, momentum=0.9)\n",
    "\n",
    "# Decay LR by a factor of 0.1 every 7 epochs\n",
    "exp_lr_scheduler = lr_scheduler.StepLR(optimizer_conv, step_size=7, gamma=0.1)\n",
    "\n",
    "model_conv = train_model(model_conv, criterion, optimizer_conv,\n",
    "                         exp_lr_scheduler, num_epochs=2)"
   ]
  },
  {
   "cell_type": "code",
   "execution_count": null,
   "id": "09c6f6c3",
   "metadata": {},
   "outputs": [],
   "source": []
  }
 ],
 "metadata": {
  "kernelspec": {
   "display_name": "Python 3 (ipykernel)",
   "language": "python",
   "name": "python3"
  },
  "language_info": {
   "codemirror_mode": {
    "name": "ipython",
    "version": 3
   },
   "file_extension": ".py",
   "mimetype": "text/x-python",
   "name": "python",
   "nbconvert_exporter": "python",
   "pygments_lexer": "ipython3",
   "version": "3.9.6"
  }
 },
 "nbformat": 4,
 "nbformat_minor": 5
}
